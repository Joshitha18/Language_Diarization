{
  "nbformat": 4,
  "nbformat_minor": 0,
  "metadata": {
    "colab": {
      "name": "AE_200.ipynb",
      "provenance": [],
      "collapsed_sections": [],
      "include_colab_link": true
    },
    "kernelspec": {
      "name": "python3",
      "display_name": "Python 3"
    },
    "language_info": {
      "name": "python"
    }
  },
  "cells": [
    {
      "cell_type": "markdown",
      "metadata": {
        "id": "view-in-github",
        "colab_type": "text"
      },
      "source": [
        "<a href=\"https://colab.research.google.com/github/Joshitha18/Language_Diarization/blob/main/AE_200.ipynb\" target=\"_parent\"><img src=\"https://colab.research.google.com/assets/colab-badge.svg\" alt=\"Open In Colab\"/></a>"
      ]
    },
    {
      "cell_type": "code",
      "metadata": {
        "colab": {
          "base_uri": "https://localhost:8080/"
        },
        "id": "Wbrq8_bKRfBz",
        "outputId": "e3c24414-969d-46de-8066-9787a2e8a482"
      },
      "source": [
        "from google.colab import drive\n",
        "drive.mount(\"/content/gdrive\")"
      ],
      "execution_count": 1,
      "outputs": [
        {
          "output_type": "stream",
          "text": [
            "Mounted at /content/gdrive\n"
          ],
          "name": "stdout"
        }
      ]
    },
    {
      "cell_type": "code",
      "metadata": {
        "id": "ts3BqGOJSFaK",
        "colab": {
          "base_uri": "https://localhost:8080/"
        },
        "outputId": "6b4a9536-a3f0-45b4-b065-da44189a127b"
      },
      "source": [
        "pip install python_speech_features"
      ],
      "execution_count": 3,
      "outputs": [
        {
          "output_type": "stream",
          "text": [
            "Collecting python_speech_features\n",
            "  Downloading https://files.pythonhosted.org/packages/ff/d1/94c59e20a2631985fbd2124c45177abaa9e0a4eee8ba8a305aa26fc02a8e/python_speech_features-0.6.tar.gz\n",
            "Building wheels for collected packages: python-speech-features\n",
            "  Building wheel for python-speech-features (setup.py) ... \u001b[?25l\u001b[?25hdone\n",
            "  Created wheel for python-speech-features: filename=python_speech_features-0.6-cp37-none-any.whl size=5888 sha256=186b033e7c0ff366a117d0307e1acc6566fa54fbb1f4a6a83667668bfa825ea2\n",
            "  Stored in directory: /root/.cache/pip/wheels/3c/42/7c/f60e9d1b40015cd69b213ad90f7c18a9264cd745b9888134be\n",
            "Successfully built python-speech-features\n",
            "Installing collected packages: python-speech-features\n",
            "Successfully installed python-speech-features-0.6\n"
          ],
          "name": "stdout"
        }
      ]
    },
    {
      "cell_type": "code",
      "metadata": {
        "id": "aJv2VSNUSC7a"
      },
      "source": [
        "import python_speech_features\n",
        "import numpy as np\n",
        "import soundfile as sf\n",
        "import pickle\n",
        "import cv2\n",
        "import glob"
      ],
      "execution_count": 4,
      "outputs": []
    },
    {
      "cell_type": "code",
      "metadata": {
        "id": "SceOvLqYxycx",
        "colab": {
          "base_uri": "https://localhost:8080/"
        },
        "outputId": "a1286989-d9b9-463a-aa09-a6ce0f8de875"
      },
      "source": [
        "!gdown --id 1SzFGWDqv7_GNDl0x2nKT-cE0PRiPpoK7"
      ],
      "execution_count": 5,
      "outputs": [
        {
          "output_type": "stream",
          "text": [
            "Downloading...\n",
            "From: https://drive.google.com/uc?id=1SzFGWDqv7_GNDl0x2nKT-cE0PRiPpoK7\n",
            "To: /content/telugu_feat_1000.pkl\n",
            "148MB [00:01, 145MB/s]\n"
          ],
          "name": "stdout"
        }
      ]
    },
    {
      "cell_type": "code",
      "metadata": {
        "id": "z55iNN4faL4c"
      },
      "source": [
        "feat_file = open('telugu_feat_1000.pkl', \"rb\")\n",
        "tel_feat = pickle.load(feat_file)"
      ],
      "execution_count": 6,
      "outputs": []
    },
    {
      "cell_type": "code",
      "metadata": {
        "colab": {
          "base_uri": "https://localhost:8080/"
        },
        "id": "qrSBF5wuaWWS",
        "outputId": "6fe57acd-e42e-42bb-b4cb-12ef3d702a75"
      },
      "source": [
        "len(tel_feat[0][18])"
      ],
      "execution_count": 7,
      "outputs": [
        {
          "output_type": "execute_result",
          "data": {
            "text/plain": [
              "39"
            ]
          },
          "metadata": {
            "tags": []
          },
          "execution_count": 7
        }
      ]
    },
    {
      "cell_type": "markdown",
      "metadata": {
        "id": "E0GDDI-_Z2Lz"
      },
      "source": [
        "Step 3"
      ]
    },
    {
      "cell_type": "code",
      "metadata": {
        "id": "zg7iiYnVacDK"
      },
      "source": [
        "import numpy"
      ],
      "execution_count": 8,
      "outputs": []
    },
    {
      "cell_type": "code",
      "metadata": {
        "id": "2L_wUa2FZ3P8"
      },
      "source": [
        "for i in range(0,len(tel_feat)):\n",
        "  tel_feat[i] = numpy.stack( tel_feat[i], axis=0 )"
      ],
      "execution_count": 9,
      "outputs": []
    },
    {
      "cell_type": "markdown",
      "metadata": {
        "id": "2Gct80JvaiOR"
      },
      "source": [
        "t = np.array(tel_feat[0:2467]) t.shape _: samples,19,39 samples: Number of 200 ms segments time steps: No of frames in it features : mfcc"
      ]
    },
    {
      "cell_type": "code",
      "metadata": {
        "id": "uwsiIUyQakIS"
      },
      "source": [
        "#t.shape _: samples,19,39 \n",
        "#samples: Number of 200 ms segments \n",
        "#time steps: No of frames in it \n",
        "#features : mfcc"
      ],
      "execution_count": 10,
      "outputs": []
    },
    {
      "cell_type": "code",
      "metadata": {
        "id": "39y4r-J9akeP"
      },
      "source": [
        "t = np.array(tel_feat)"
      ],
      "execution_count": 11,
      "outputs": []
    },
    {
      "cell_type": "code",
      "metadata": {
        "id": "-9UAZzKDawnR",
        "colab": {
          "base_uri": "https://localhost:8080/"
        },
        "outputId": "917acbf0-8b39-4bce-a6da-adcaa0d9e95b"
      },
      "source": [
        "t.shape"
      ],
      "execution_count": 12,
      "outputs": [
        {
          "output_type": "execute_result",
          "data": {
            "text/plain": [
              "(24678, 19, 39)"
            ]
          },
          "metadata": {
            "tags": []
          },
          "execution_count": 12
        }
      ]
    },
    {
      "cell_type": "code",
      "metadata": {
        "id": "gHGfv5QlqrT7"
      },
      "source": [
        "sequence = t"
      ],
      "execution_count": 13,
      "outputs": []
    },
    {
      "cell_type": "code",
      "metadata": {
        "id": "wAcGwRws06_O"
      },
      "source": [
        "window_length = 19"
      ],
      "execution_count": 14,
      "outputs": []
    },
    {
      "cell_type": "code",
      "metadata": {
        "id": "oVYKy_HaNDq7"
      },
      "source": [
        "train_size = 80\n",
        "val_size = 15\n",
        "test_size = 5\n",
        "train, val, test= sequence[:int(len(sequence)*train_size/100)], sequence[int(len(sequence)*train_size/100):-int(len(sequence)*test_size/100)], sequence[-int(len(sequence)*test_size/100):]"
      ],
      "execution_count": 15,
      "outputs": []
    },
    {
      "cell_type": "code",
      "metadata": {
        "colab": {
          "base_uri": "https://localhost:8080/"
        },
        "id": "KyZZ34lQORCl",
        "outputId": "a10211d2-5edf-4d1f-dff3-585a30f87626"
      },
      "source": [
        "train.shape,val.shape,test.shape"
      ],
      "execution_count": 16,
      "outputs": [
        {
          "output_type": "execute_result",
          "data": {
            "text/plain": [
              "((19742, 19, 39), (3703, 19, 39), (1233, 19, 39))"
            ]
          },
          "metadata": {
            "tags": []
          },
          "execution_count": 16
        }
      ]
    },
    {
      "cell_type": "code",
      "metadata": {
        "id": "UwGv4lIN1gxx"
      },
      "source": [
        "from keras.layers import Input, Dense, Conv2D, MaxPooling2D, UpSampling2D, BatchNormalization, LSTM, RepeatVector\n",
        "from keras.models import Model\n",
        "from keras.models import model_from_json\n",
        "from keras import regularizers\n",
        "import datetime\n",
        "import time\n",
        "import requests as req\n",
        "import json\n",
        "import pandas as pd\n",
        "import pickle\n",
        "import os\n",
        "import numpy as np\n",
        "from sklearn.preprocessing import MinMaxScaler\n",
        "from tqdm import tqdm\n",
        "from mpl_toolkits.mplot3d import Axes3D\n",
        "import matplotlib.pyplot as plt"
      ],
      "execution_count": 17,
      "outputs": []
    },
    {
      "cell_type": "code",
      "metadata": {
        "id": "p_Uj8aCWqrWP"
      },
      "source": [
        "from keras.models import Sequential\n",
        "from keras.layers import LSTM\n",
        "from keras.layers import Dense\n",
        "from keras.layers import RepeatVector\n",
        "from keras.layers import TimeDistributed\n",
        "from keras import callbacks\n",
        "from keras.callbacks import ModelCheckpoint,ReduceLROnPlateau\n",
        "# define model\n",
        "n_in = 19\n",
        "model = Sequential()\n",
        "model.add(LSTM(200, activation='relu', input_shape=(19,39)))\n",
        "model.add(RepeatVector(n_in))\n",
        "model.add(LSTM(200, activation='relu', return_sequences=True))\n",
        "model.add(TimeDistributed(Dense(39)))\n",
        "\n",
        "model.compile(optimizer='adam', loss='mse')\n",
        "earlystopping = callbacks.EarlyStopping(monitor =\"val_loss\", mode =\"min\", patience = 7)\n",
        "model_save = ModelCheckpoint('wts_200.h5', save_best_only=True, monitor='val_loss', mode='min')\n",
        "reduce_lr_loss = ReduceLROnPlateau(monitor='val_loss', factor=0.1, patience=5, verbose=1, min_delta=0.1, mode='min')"
      ],
      "execution_count": 29,
      "outputs": []
    },
    {
      "cell_type": "code",
      "metadata": {
        "colab": {
          "base_uri": "https://localhost:8080/"
        },
        "id": "Q1dDdm45uRCr",
        "outputId": "dc2407c6-c44f-4e50-992b-cfa38987176c"
      },
      "source": [
        "model.summary()"
      ],
      "execution_count": 30,
      "outputs": [
        {
          "output_type": "stream",
          "text": [
            "Model: \"sequential_5\"\n",
            "_________________________________________________________________\n",
            "Layer (type)                 Output Shape              Param #   \n",
            "=================================================================\n",
            "lstm_10 (LSTM)               (None, 200)               192000    \n",
            "_________________________________________________________________\n",
            "repeat_vector_5 (RepeatVecto (None, 19, 200)           0         \n",
            "_________________________________________________________________\n",
            "lstm_11 (LSTM)               (None, 19, 200)           320800    \n",
            "_________________________________________________________________\n",
            "time_distributed_5 (TimeDist (None, 19, 39)            7839      \n",
            "=================================================================\n",
            "Total params: 520,639\n",
            "Trainable params: 520,639\n",
            "Non-trainable params: 0\n",
            "_________________________________________________________________\n"
          ],
          "name": "stdout"
        }
      ]
    },
    {
      "cell_type": "code",
      "metadata": {
        "colab": {
          "base_uri": "https://localhost:8080/"
        },
        "id": "qHzg1Ya-sHx0",
        "outputId": "d54043aa-a3a2-41c3-c6d1-6aa85f4b31af"
      },
      "source": [
        "# fit model\n",
        "model.fit(train, train, epochs=30, verbose=1, batch_size=457,validation_data=(val,val), callbacks=[earlystopping, model_save, reduce_lr_loss])"
      ],
      "execution_count": 31,
      "outputs": [
        {
          "output_type": "stream",
          "text": [
            "Epoch 1/30\n",
            "44/44 [==============================] - 35s 708ms/step - loss: 105.5949 - val_loss: 60.4584\n",
            "Epoch 2/30\n",
            "44/44 [==============================] - 30s 687ms/step - loss: 54.3901 - val_loss: 49.5075\n",
            "Epoch 3/30\n",
            "44/44 [==============================] - 30s 690ms/step - loss: 45.0175 - val_loss: 42.8189\n",
            "Epoch 4/30\n",
            "44/44 [==============================] - 30s 693ms/step - loss: 39.3287 - val_loss: 38.7519\n",
            "Epoch 5/30\n",
            "44/44 [==============================] - 30s 692ms/step - loss: 35.4496 - val_loss: 34.2176\n",
            "Epoch 6/30\n",
            "44/44 [==============================] - 30s 693ms/step - loss: 31.3469 - val_loss: 30.4451\n",
            "Epoch 7/30\n",
            "44/44 [==============================] - 31s 697ms/step - loss: 27.9734 - val_loss: 27.9414\n",
            "Epoch 8/30\n",
            "44/44 [==============================] - 31s 695ms/step - loss: 25.5536 - val_loss: 25.7826\n",
            "Epoch 9/30\n",
            "44/44 [==============================] - 31s 704ms/step - loss: 23.6415 - val_loss: 24.1794\n",
            "Epoch 10/30\n",
            "44/44 [==============================] - 31s 701ms/step - loss: 22.0880 - val_loss: 22.5896\n",
            "Epoch 11/30\n",
            "44/44 [==============================] - 31s 696ms/step - loss: 20.9267 - val_loss: 21.3655\n",
            "Epoch 12/30\n",
            "44/44 [==============================] - 30s 693ms/step - loss: 19.9707 - val_loss: 20.1289\n",
            "Epoch 13/30\n",
            "44/44 [==============================] - 31s 696ms/step - loss: 18.7763 - val_loss: 19.5167\n",
            "Epoch 14/30\n",
            "44/44 [==============================] - 31s 696ms/step - loss: 18.0816 - val_loss: 19.0384\n",
            "Epoch 15/30\n",
            "44/44 [==============================] - 30s 694ms/step - loss: 17.4839 - val_loss: 18.0203\n",
            "Epoch 16/30\n",
            "44/44 [==============================] - 31s 695ms/step - loss: 16.6764 - val_loss: 17.3899\n",
            "Epoch 17/30\n",
            "44/44 [==============================] - 31s 699ms/step - loss: 16.0861 - val_loss: 16.7559\n",
            "Epoch 18/30\n",
            "44/44 [==============================] - 31s 696ms/step - loss: 15.6972 - val_loss: 16.0947\n",
            "Epoch 19/30\n",
            "44/44 [==============================] - 31s 696ms/step - loss: 15.1833 - val_loss: 15.5096\n",
            "Epoch 20/30\n",
            "44/44 [==============================] - 31s 700ms/step - loss: 14.7274 - val_loss: 15.1979\n",
            "Epoch 21/30\n",
            "44/44 [==============================] - 31s 698ms/step - loss: 14.5294 - val_loss: 14.9725\n",
            "Epoch 22/30\n",
            "44/44 [==============================] - 31s 696ms/step - loss: 14.2659 - val_loss: 14.5198\n",
            "Epoch 23/30\n",
            "44/44 [==============================] - 31s 697ms/step - loss: 13.6679 - val_loss: 14.3849\n",
            "Epoch 24/30\n",
            "44/44 [==============================] - 31s 697ms/step - loss: 13.5088 - val_loss: 14.3910\n",
            "Epoch 25/30\n",
            "44/44 [==============================] - 31s 698ms/step - loss: 13.1800 - val_loss: 13.9663\n",
            "Epoch 26/30\n",
            "44/44 [==============================] - 31s 698ms/step - loss: 12.9022 - val_loss: 13.1869\n",
            "Epoch 27/30\n",
            "44/44 [==============================] - 31s 699ms/step - loss: 12.5988 - val_loss: 13.2710\n",
            "Epoch 28/30\n",
            "44/44 [==============================] - 31s 696ms/step - loss: 12.3331 - val_loss: 12.9754\n",
            "Epoch 29/30\n",
            "44/44 [==============================] - 31s 702ms/step - loss: 12.0648 - val_loss: 12.9336\n",
            "Epoch 30/30\n",
            "44/44 [==============================] - 31s 704ms/step - loss: 11.8596 - val_loss: 12.3453\n"
          ],
          "name": "stdout"
        },
        {
          "output_type": "execute_result",
          "data": {
            "text/plain": [
              "<keras.callbacks.History at 0x7feafab33c50>"
            ]
          },
          "metadata": {
            "tags": []
          },
          "execution_count": 31
        }
      ]
    },
    {
      "cell_type": "code",
      "metadata": {
        "id": "xwm_juSatCAC"
      },
      "source": [
        "pred = model.predict(test, batch_size=457)"
      ],
      "execution_count": 32,
      "outputs": []
    },
    {
      "cell_type": "code",
      "metadata": {
        "colab": {
          "base_uri": "https://localhost:8080/"
        },
        "id": "0x8NQRua3449",
        "outputId": "bacaf5a9-1094-43b2-ded1-fd2614492302"
      },
      "source": [
        "test[0][0]"
      ],
      "execution_count": 41,
      "outputs": [
        {
          "output_type": "execute_result",
          "data": {
            "text/plain": [
              "array([ -1.53395896, -50.87020484,   6.86831458,  14.42068943,\n",
              "       -28.22137308,  16.14602626,   2.57386885, -13.96200468,\n",
              "         6.53097399,  -9.19877125,   5.16253294,  -3.80997834,\n",
              "        -2.71652346,  -0.11512832,   2.03727596,  -2.35826502,\n",
              "         1.54397025,   1.07184026,  -2.1598969 ,  -2.7152663 ,\n",
              "         1.17963533,   5.17126893,  -1.83401837,  -2.77733645,\n",
              "         1.49489952,  -0.86824379,  -0.27046028,   2.02959914,\n",
              "        -0.27835788,   0.06794585,   0.59164359,  -0.68798001,\n",
              "        -0.99175307,  -0.10791792,  -0.6969164 ,   0.49798605,\n",
              "        -1.30548172,  -1.03060626,   0.39822172])"
            ]
          },
          "metadata": {
            "tags": []
          },
          "execution_count": 41
        }
      ]
    },
    {
      "cell_type": "code",
      "metadata": {
        "colab": {
          "base_uri": "https://localhost:8080/"
        },
        "id": "o1x03h753nOM",
        "outputId": "befd7034-a28d-4d05-8e3e-fb0c1b34e59b"
      },
      "source": [
        "pred[0][0]"
      ],
      "execution_count": 42,
      "outputs": [
        {
          "output_type": "execute_result",
          "data": {
            "text/plain": [
              "array([-4.8244448e+00, -4.4993317e+01,  2.2965453e+00,  1.2380829e+01,\n",
              "       -1.7705736e+01,  1.1711441e+01,  2.1142179e-01, -7.4696522e+00,\n",
              "        1.5634246e+01, -7.7564349e+00, -2.6994891e+00,  8.6232483e-01,\n",
              "       -2.3774849e-01,  3.2122850e-01, -4.4488978e-01, -1.0002151e+00,\n",
              "        1.9645032e+00, -7.3258954e-01, -1.5009106e+00, -1.6847308e+00,\n",
              "       -6.0216540e-01,  2.2111971e+00,  8.0453485e-01, -6.8291008e-01,\n",
              "       -2.7625010e+00,  1.2004116e-01, -1.2249289e-01,  1.9232570e+00,\n",
              "        8.1911236e-03, -1.0771266e+00,  1.6684997e-01, -1.4732271e+00,\n",
              "       -6.3018006e-01,  1.9186379e-01, -3.6647528e-01,  7.6718032e-01,\n",
              "        7.7155238e-01, -1.5727686e+00, -5.4984492e-01], dtype=float32)"
            ]
          },
          "metadata": {
            "tags": []
          },
          "execution_count": 42
        }
      ]
    },
    {
      "cell_type": "code",
      "metadata": {
        "id": "OBMUZPPUsLjG"
      },
      "source": [
        "out = model.layers[0].output\n",
        "m = Model(inputs = model.input, outputs=out)"
      ],
      "execution_count": 35,
      "outputs": []
    },
    {
      "cell_type": "code",
      "metadata": {
        "id": "o41fBrbLtcRg"
      },
      "source": [
        "train_output = m.predict(train)\n",
        "val_output = m.predict(val)\n",
        "test_output = m.predict(test)\n",
        "output = m.predict(sequence)"
      ],
      "execution_count": 39,
      "outputs": []
    },
    {
      "cell_type": "code",
      "metadata": {
        "colab": {
          "base_uri": "https://localhost:8080/"
        },
        "id": "vXvKCbjltj2u",
        "outputId": "5813392b-127e-4138-f905-05b03aabb470"
      },
      "source": [
        "len(output[0])"
      ],
      "execution_count": 40,
      "outputs": [
        {
          "output_type": "execute_result",
          "data": {
            "text/plain": [
              "200"
            ]
          },
          "metadata": {
            "tags": []
          },
          "execution_count": 40
        }
      ]
    }
  ]
}