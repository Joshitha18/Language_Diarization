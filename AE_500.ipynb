{
  "nbformat": 4,
  "nbformat_minor": 0,
  "metadata": {
    "colab": {
      "name": "AE_500.ipynb",
      "provenance": [],
      "collapsed_sections": [],
      "include_colab_link": true
    },
    "kernelspec": {
      "name": "python3",
      "display_name": "Python 3"
    },
    "language_info": {
      "name": "python"
    }
  },
  "cells": [
    {
      "cell_type": "markdown",
      "metadata": {
        "id": "view-in-github",
        "colab_type": "text"
      },
      "source": [
        "<a href=\"https://colab.research.google.com/github/Joshitha18/Language_Diarization/blob/main/AE_500.ipynb\" target=\"_parent\"><img src=\"https://colab.research.google.com/assets/colab-badge.svg\" alt=\"Open In Colab\"/></a>"
      ]
    },
    {
      "cell_type": "code",
      "metadata": {
        "colab": {
          "base_uri": "https://localhost:8080/"
        },
        "id": "Wbrq8_bKRfBz",
        "outputId": "36d19e86-f413-4a12-9667-4b3a376f79f0"
      },
      "source": [
        "from google.colab import drive\n",
        "drive.mount(\"/content/gdrive\")"
      ],
      "execution_count": 1,
      "outputs": [
        {
          "output_type": "stream",
          "text": [
            "Mounted at /content/gdrive\n"
          ],
          "name": "stdout"
        }
      ]
    },
    {
      "cell_type": "code",
      "metadata": {
        "id": "-GCm62olRi0C"
      },
      "source": [
        "!cd /content/gdrive/MyDrive/MS_CD_SW/PartB_Telugu/Train/Audio"
      ],
      "execution_count": 2,
      "outputs": []
    },
    {
      "cell_type": "code",
      "metadata": {
        "id": "ts3BqGOJSFaK",
        "colab": {
          "base_uri": "https://localhost:8080/"
        },
        "outputId": "6003c34c-c5ed-4587-bb22-07f1a08e7138"
      },
      "source": [
        "pip install python_speech_features"
      ],
      "execution_count": 3,
      "outputs": [
        {
          "output_type": "stream",
          "text": [
            "Collecting python_speech_features\n",
            "  Downloading https://files.pythonhosted.org/packages/ff/d1/94c59e20a2631985fbd2124c45177abaa9e0a4eee8ba8a305aa26fc02a8e/python_speech_features-0.6.tar.gz\n",
            "Building wheels for collected packages: python-speech-features\n",
            "  Building wheel for python-speech-features (setup.py) ... \u001b[?25l\u001b[?25hdone\n",
            "  Created wheel for python-speech-features: filename=python_speech_features-0.6-cp37-none-any.whl size=5888 sha256=d9c42a15e82684f90f0bcb607f64634ffd0ad609b0127e0d6ab385fdac3bb059\n",
            "  Stored in directory: /root/.cache/pip/wheels/3c/42/7c/f60e9d1b40015cd69b213ad90f7c18a9264cd745b9888134be\n",
            "Successfully built python-speech-features\n",
            "Installing collected packages: python-speech-features\n",
            "Successfully installed python-speech-features-0.6\n"
          ],
          "name": "stdout"
        }
      ]
    },
    {
      "cell_type": "code",
      "metadata": {
        "id": "aJv2VSNUSC7a"
      },
      "source": [
        "import python_speech_features\n",
        "import numpy as np\n",
        "import soundfile as sf\n",
        "import pickle\n",
        "import cv2\n",
        "import glob"
      ],
      "execution_count": 4,
      "outputs": []
    },
    {
      "cell_type": "code",
      "metadata": {
        "id": "SceOvLqYxycx",
        "colab": {
          "base_uri": "https://localhost:8080/"
        },
        "outputId": "096115d3-e153-4449-d1b3-1d3673177cff"
      },
      "source": [
        "!gdown --id 1SzFGWDqv7_GNDl0x2nKT-cE0PRiPpoK7"
      ],
      "execution_count": 5,
      "outputs": [
        {
          "output_type": "stream",
          "text": [
            "Downloading...\n",
            "From: https://drive.google.com/uc?id=1SzFGWDqv7_GNDl0x2nKT-cE0PRiPpoK7\n",
            "To: /content/telugu_feat_1000.pkl\n",
            "148MB [00:00, 153MB/s]\n"
          ],
          "name": "stdout"
        }
      ]
    },
    {
      "cell_type": "code",
      "metadata": {
        "id": "z55iNN4faL4c"
      },
      "source": [
        "feat_file = open('telugu_feat_1000.pkl', \"rb\")\n",
        "tel_feat = pickle.load(feat_file)"
      ],
      "execution_count": 6,
      "outputs": []
    },
    {
      "cell_type": "code",
      "metadata": {
        "colab": {
          "base_uri": "https://localhost:8080/"
        },
        "id": "qrSBF5wuaWWS",
        "outputId": "6e0ad9b1-8b00-474c-f2d2-1490990a4892"
      },
      "source": [
        "len(tel_feat[0][18])"
      ],
      "execution_count": 7,
      "outputs": [
        {
          "output_type": "execute_result",
          "data": {
            "text/plain": [
              "39"
            ]
          },
          "metadata": {
            "tags": []
          },
          "execution_count": 7
        }
      ]
    },
    {
      "cell_type": "markdown",
      "metadata": {
        "id": "E0GDDI-_Z2Lz"
      },
      "source": [
        "Step 3"
      ]
    },
    {
      "cell_type": "code",
      "metadata": {
        "id": "zg7iiYnVacDK"
      },
      "source": [
        "import numpy"
      ],
      "execution_count": 8,
      "outputs": []
    },
    {
      "cell_type": "code",
      "metadata": {
        "id": "2L_wUa2FZ3P8"
      },
      "source": [
        "for i in range(0,len(tel_feat)):\n",
        "  tel_feat[i] = numpy.stack( tel_feat[i], axis=0 )"
      ],
      "execution_count": 9,
      "outputs": []
    },
    {
      "cell_type": "markdown",
      "metadata": {
        "id": "2Gct80JvaiOR"
      },
      "source": [
        "t = np.array(tel_feat[0:2467]) t.shape _: samples,19,39 samples: Number of 200 ms segments time steps: No of frames in it features : mfcc"
      ]
    },
    {
      "cell_type": "code",
      "metadata": {
        "id": "uwsiIUyQakIS"
      },
      "source": [
        "#t.shape _: samples,19,39 \n",
        "#samples: Number of 200 ms segments \n",
        "#time steps: No of frames in it \n",
        "#features : mfcc"
      ],
      "execution_count": null,
      "outputs": []
    },
    {
      "cell_type": "code",
      "metadata": {
        "id": "39y4r-J9akeP"
      },
      "source": [
        "t = np.array(tel_feat)"
      ],
      "execution_count": 10,
      "outputs": []
    },
    {
      "cell_type": "code",
      "metadata": {
        "id": "-9UAZzKDawnR",
        "colab": {
          "base_uri": "https://localhost:8080/"
        },
        "outputId": "616f7828-339b-4481-95b9-87f41c6bc1fe"
      },
      "source": [
        "t.shape"
      ],
      "execution_count": 11,
      "outputs": [
        {
          "output_type": "execute_result",
          "data": {
            "text/plain": [
              "(24678, 19, 39)"
            ]
          },
          "metadata": {
            "tags": []
          },
          "execution_count": 11
        }
      ]
    },
    {
      "cell_type": "code",
      "metadata": {
        "id": "gHGfv5QlqrT7"
      },
      "source": [
        "sequence = t"
      ],
      "execution_count": 12,
      "outputs": []
    },
    {
      "cell_type": "code",
      "metadata": {
        "id": "wAcGwRws06_O"
      },
      "source": [
        "window_length = 19"
      ],
      "execution_count": 13,
      "outputs": []
    },
    {
      "cell_type": "code",
      "metadata": {
        "id": "oVYKy_HaNDq7"
      },
      "source": [
        "train_size = 80\n",
        "val_size = 15\n",
        "test_size = 5\n",
        "train, val, test= sequence[:int(len(sequence)*train_size/100)], sequence[int(len(sequence)*train_size/100):-int(len(sequence)*test_size/100)], sequence[-int(len(sequence)*test_size/100):]"
      ],
      "execution_count": 29,
      "outputs": []
    },
    {
      "cell_type": "code",
      "metadata": {
        "colab": {
          "base_uri": "https://localhost:8080/"
        },
        "id": "KyZZ34lQORCl",
        "outputId": "026629f0-18c4-4be1-bbce-0ab7f7b332fc"
      },
      "source": [
        "train.shape,val.shape,test.shape"
      ],
      "execution_count": 30,
      "outputs": [
        {
          "output_type": "execute_result",
          "data": {
            "text/plain": [
              "((19742, 19, 39), (3703, 19, 39), (1233, 19, 39))"
            ]
          },
          "metadata": {
            "tags": []
          },
          "execution_count": 30
        }
      ]
    },
    {
      "cell_type": "code",
      "metadata": {
        "id": "UwGv4lIN1gxx"
      },
      "source": [
        "from keras.layers import Input, Dense, Conv2D, MaxPooling2D, UpSampling2D, BatchNormalization, LSTM, RepeatVector\n",
        "from keras.models import Model\n",
        "from keras.models import model_from_json\n",
        "from keras import regularizers\n",
        "import datetime\n",
        "import time\n",
        "import requests as req\n",
        "import json\n",
        "import pandas as pd\n",
        "import pickle\n",
        "import os\n",
        "import numpy as np\n",
        "from sklearn.preprocessing import MinMaxScaler\n",
        "from tqdm import tqdm\n",
        "from mpl_toolkits.mplot3d import Axes3D\n",
        "import matplotlib.pyplot as plt\n",
        "from keras import callbacks\n",
        "from keras.callbacks import ModelCheckpoint,ReduceLROnPlateau"
      ],
      "execution_count": 41,
      "outputs": []
    },
    {
      "cell_type": "code",
      "metadata": {
        "id": "p_Uj8aCWqrWP"
      },
      "source": [
        "from keras.models import Sequential\n",
        "from keras.layers import LSTM\n",
        "from keras.layers import Dense\n",
        "from keras.layers import RepeatVector\n",
        "from keras.layers import TimeDistributed\n",
        "\n",
        "# define model\n",
        "n_in = 19\n",
        "model = Sequential()\n",
        "model.add(LSTM(500, activation='relu', input_shape=(19,39)))\n",
        "model.add(RepeatVector(n_in))\n",
        "model.add(LSTM(500, activation='relu', return_sequences=True))\n",
        "model.add(TimeDistributed(Dense(39)))\n",
        "model.compile(optimizer='adam', loss='mse')"
      ],
      "execution_count": 37,
      "outputs": []
    },
    {
      "cell_type": "code",
      "metadata": {
        "colab": {
          "base_uri": "https://localhost:8080/"
        },
        "id": "Q1dDdm45uRCr",
        "outputId": "76cd121f-c07e-4f4a-f12f-77edd8bb0a27"
      },
      "source": [
        "model.summary()"
      ],
      "execution_count": 38,
      "outputs": [
        {
          "output_type": "stream",
          "text": [
            "Model: \"sequential_2\"\n",
            "_________________________________________________________________\n",
            "Layer (type)                 Output Shape              Param #   \n",
            "=================================================================\n",
            "lstm_4 (LSTM)                (None, 500)               1080000   \n",
            "_________________________________________________________________\n",
            "repeat_vector_2 (RepeatVecto (None, 19, 500)           0         \n",
            "_________________________________________________________________\n",
            "lstm_5 (LSTM)                (None, 19, 500)           2002000   \n",
            "_________________________________________________________________\n",
            "time_distributed_2 (TimeDist (None, 19, 39)            19539     \n",
            "=================================================================\n",
            "Total params: 3,101,539\n",
            "Trainable params: 3,101,539\n",
            "Non-trainable params: 0\n",
            "_________________________________________________________________\n"
          ],
          "name": "stdout"
        }
      ]
    },
    {
      "cell_type": "code",
      "metadata": {
        "id": "qHzg1Ya-sHx0"
      },
      "source": [
        "# fit model\n",
        "model.fit(train, train, epochs=30, verbose=1, batch_size=457,validation_data=(val,val))"
      ],
      "execution_count": null,
      "outputs": []
    },
    {
      "cell_type": "code",
      "metadata": {
        "colab": {
          "base_uri": "https://localhost:8080/"
        },
        "id": "SmrGHdZKVY9W",
        "outputId": "fda03d6a-5380-4be9-a8d2-47efdc0b05af"
      },
      "source": [
        "earlystopping = callbacks.EarlyStopping(monitor =\"val_loss\", mode =\"min\", patience = 7)\n",
        "model_save = ModelCheckpoint('wts_500.h5', save_best_only=True, monitor='val_loss', mode='min')\n",
        "reduce_lr_loss = ReduceLROnPlateau(monitor='val_loss', factor=0.1, patience=5, verbose=1, min_delta=0.1, mode='min')\n",
        "model.fit(train, train, epochs=10, verbose=1, batch_size=457,validation_data=(val,val), callbacks=[earlystopping, model_save, reduce_lr_loss])"
      ],
      "execution_count": 43,
      "outputs": [
        {
          "output_type": "stream",
          "text": [
            "Epoch 1/10\n",
            "44/44 [==============================] - 165s 4s/step - loss: 11.9871 - val_loss: 12.8056\n",
            "Epoch 2/10\n",
            "44/44 [==============================] - 165s 4s/step - loss: 11.3499 - val_loss: 11.5858\n",
            "Epoch 3/10\n",
            "44/44 [==============================] - 166s 4s/step - loss: 10.8741 - val_loss: 11.6158\n",
            "Epoch 4/10\n",
            "44/44 [==============================] - 165s 4s/step - loss: 10.3609 - val_loss: 10.7170\n",
            "Epoch 5/10\n",
            "44/44 [==============================] - 165s 4s/step - loss: 9.7785 - val_loss: 10.1051\n",
            "Epoch 6/10\n",
            "44/44 [==============================] - 166s 4s/step - loss: 9.6711 - val_loss: 9.9388\n",
            "Epoch 7/10\n",
            "44/44 [==============================] - 166s 4s/step - loss: 9.1887 - val_loss: 9.6267\n",
            "Epoch 8/10\n",
            "44/44 [==============================] - 167s 4s/step - loss: 8.7357 - val_loss: 9.2372\n",
            "Epoch 9/10\n",
            "44/44 [==============================] - 166s 4s/step - loss: 8.5528 - val_loss: 8.9577\n",
            "Epoch 10/10\n",
            "44/44 [==============================] - 165s 4s/step - loss: 8.1673 - val_loss: 9.4885\n"
          ],
          "name": "stdout"
        },
        {
          "output_type": "execute_result",
          "data": {
            "text/plain": [
              "<keras.callbacks.History at 0x7f4a8215c510>"
            ]
          },
          "metadata": {
            "tags": []
          },
          "execution_count": 43
        }
      ]
    },
    {
      "cell_type": "code",
      "metadata": {
        "id": "xwm_juSatCAC"
      },
      "source": [
        "pred = model.predict(test, batch_size=457)"
      ],
      "execution_count": 44,
      "outputs": []
    },
    {
      "cell_type": "code",
      "metadata": {
        "colab": {
          "base_uri": "https://localhost:8080/"
        },
        "id": "0x8NQRua3449",
        "outputId": "31e71370-e589-4290-871d-2f199a901966"
      },
      "source": [
        "test[0][0]"
      ],
      "execution_count": 45,
      "outputs": [
        {
          "output_type": "execute_result",
          "data": {
            "text/plain": [
              "array([ -1.53395896, -50.87020484,   6.86831458,  14.42068943,\n",
              "       -28.22137308,  16.14602626,   2.57386885, -13.96200468,\n",
              "         6.53097399,  -9.19877125,   5.16253294,  -3.80997834,\n",
              "        -2.71652346,  -0.11512832,   2.03727596,  -2.35826502,\n",
              "         1.54397025,   1.07184026,  -2.1598969 ,  -2.7152663 ,\n",
              "         1.17963533,   5.17126893,  -1.83401837,  -2.77733645,\n",
              "         1.49489952,  -0.86824379,  -0.27046028,   2.02959914,\n",
              "        -0.27835788,   0.06794585,   0.59164359,  -0.68798001,\n",
              "        -0.99175307,  -0.10791792,  -0.6969164 ,   0.49798605,\n",
              "        -1.30548172,  -1.03060626,   0.39822172])"
            ]
          },
          "metadata": {
            "tags": []
          },
          "execution_count": 45
        }
      ]
    },
    {
      "cell_type": "code",
      "metadata": {
        "colab": {
          "base_uri": "https://localhost:8080/"
        },
        "id": "o1x03h753nOM",
        "outputId": "2ceb8159-7ae6-4e00-f577-d54b9202ac00"
      },
      "source": [
        "pred[0][0]"
      ],
      "execution_count": 46,
      "outputs": [
        {
          "output_type": "execute_result",
          "data": {
            "text/plain": [
              "array([-4.0874801e+00, -4.7939049e+01, -6.8791032e-01,  1.5482079e+01,\n",
              "       -2.6487209e+01,  1.1174013e+01,  2.6592753e+00, -6.9671130e+00,\n",
              "        1.4126110e+01, -1.5419239e+01,  5.1516309e+00, -1.1512309e+00,\n",
              "       -4.8331699e+00, -8.0907381e-01,  1.7156996e-01, -2.7263027e-01,\n",
              "       -5.6470835e-01,  6.1785817e-01, -2.2213696e-01, -2.6006365e+00,\n",
              "        1.1306101e+00,  4.1021686e+00,  1.0598655e+00, -3.4613700e+00,\n",
              "        7.8074837e-01,  1.1216266e+00, -8.0194250e-02,  2.0830505e+00,\n",
              "        2.9534599e-01, -7.6816708e-02,  1.2990749e+00, -1.0431510e+00,\n",
              "       -1.9919204e+00,  6.1049724e-01, -7.7122128e-01,  3.4761980e-02,\n",
              "       -3.2203028e-01,  2.3164378e-01, -3.8821702e-03], dtype=float32)"
            ]
          },
          "metadata": {
            "tags": []
          },
          "execution_count": 46
        }
      ]
    },
    {
      "cell_type": "code",
      "metadata": {
        "id": "OBMUZPPUsLjG"
      },
      "source": [
        "out = model.layers[0].output\n",
        "m = Model(inputs = model.input, outputs=out)"
      ],
      "execution_count": 47,
      "outputs": []
    },
    {
      "cell_type": "code",
      "metadata": {
        "id": "o41fBrbLtcRg"
      },
      "source": [
        "train_output = m.predict(train)\n",
        "val_output = m.predict(val)\n",
        "test_output = m.predict(test)\n",
        "output = m.predict(sequence)"
      ],
      "execution_count": 48,
      "outputs": []
    },
    {
      "cell_type": "code",
      "metadata": {
        "colab": {
          "base_uri": "https://localhost:8080/"
        },
        "id": "vXvKCbjltj2u",
        "outputId": "6e8d2c0f-6c58-493c-b6c0-ac099012c0c2"
      },
      "source": [
        "len(output[0])"
      ],
      "execution_count": 49,
      "outputs": [
        {
          "output_type": "execute_result",
          "data": {
            "text/plain": [
              "500"
            ]
          },
          "metadata": {
            "tags": []
          },
          "execution_count": 49
        }
      ]
    }
  ]
}