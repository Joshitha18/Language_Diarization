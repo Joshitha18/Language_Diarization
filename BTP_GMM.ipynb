{
  "nbformat": 4,
  "nbformat_minor": 0,
  "metadata": {
    "colab": {
      "name": "BTP_GMM.ipynb",
      "provenance": [],
      "collapsed_sections": [],
      "include_colab_link": true
    },
    "kernelspec": {
      "name": "python3",
      "display_name": "Python 3"
    },
    "language_info": {
      "name": "python"
    }
  },
  "cells": [
    {
      "cell_type": "markdown",
      "metadata": {
        "id": "view-in-github",
        "colab_type": "text"
      },
      "source": [
        "<a href=\"https://colab.research.google.com/github/Joshitha18/Language_Diarization/blob/main/BTP_GMM.ipynb\" target=\"_parent\"><img src=\"https://colab.research.google.com/assets/colab-badge.svg\" alt=\"Open In Colab\"/></a>"
      ]
    },
    {
      "cell_type": "code",
      "metadata": {
        "colab": {
          "base_uri": "https://localhost:8080/"
        },
        "id": "Wbrq8_bKRfBz",
        "outputId": "c1f54c4a-b334-421e-babf-10f4b865ad0f"
      },
      "source": [
        "from google.colab import drive\n",
        "drive.mount(\"/content/gdrive\")"
      ],
      "execution_count": null,
      "outputs": [
        {
          "output_type": "stream",
          "text": [
            "Drive already mounted at /content/gdrive; to attempt to forcibly remount, call drive.mount(\"/content/gdrive\", force_remount=True).\n"
          ],
          "name": "stdout"
        }
      ]
    },
    {
      "cell_type": "code",
      "metadata": {
        "id": "ts3BqGOJSFaK",
        "colab": {
          "base_uri": "https://localhost:8080/"
        },
        "outputId": "d93b4f0e-bd31-4b2c-bb3d-26bf40d110a6"
      },
      "source": [
        "pip install python_speech_features"
      ],
      "execution_count": null,
      "outputs": [
        {
          "output_type": "stream",
          "text": [
            "Requirement already satisfied: python_speech_features in /usr/local/lib/python3.7/dist-packages (0.6)\n"
          ],
          "name": "stdout"
        }
      ]
    },
    {
      "cell_type": "code",
      "metadata": {
        "id": "aJv2VSNUSC7a"
      },
      "source": [
        "import python_speech_features\n",
        "import numpy as np\n",
        "import soundfile as sf\n",
        "import pickle\n",
        "import cv2\n",
        "import glob"
      ],
      "execution_count": null,
      "outputs": []
    },
    {
      "cell_type": "code",
      "metadata": {
        "id": "SceOvLqYxycx",
        "colab": {
          "base_uri": "https://localhost:8080/"
        },
        "outputId": "23dccfec-3418-431a-dce4-3a740cca3e5e"
      },
      "source": [
        "!gdown --id 1SzFGWDqv7_GNDl0x2nKT-cE0PRiPpoK7"
      ],
      "execution_count": null,
      "outputs": [
        {
          "output_type": "stream",
          "text": [
            "Downloading...\n",
            "From: https://drive.google.com/uc?id=1SzFGWDqv7_GNDl0x2nKT-cE0PRiPpoK7\n",
            "To: /content/telugu_feat_1000.pkl\n",
            "148MB [00:01, 143MB/s]\n"
          ],
          "name": "stdout"
        }
      ]
    },
    {
      "cell_type": "code",
      "metadata": {
        "id": "z55iNN4faL4c"
      },
      "source": [
        "feat_file = open('telugu_feat_1000.pkl', \"rb\")\n",
        "tel_feat = pickle.load(feat_file)"
      ],
      "execution_count": null,
      "outputs": []
    },
    {
      "cell_type": "code",
      "metadata": {
        "id": "qrSBF5wuaWWS",
        "colab": {
          "base_uri": "https://localhost:8080/"
        },
        "outputId": "38d3feaf-c9e4-414a-fbd0-cda2281663e4"
      },
      "source": [
        "len(tel_feat[0][18])"
      ],
      "execution_count": null,
      "outputs": [
        {
          "output_type": "execute_result",
          "data": {
            "text/plain": [
              "39"
            ]
          },
          "metadata": {
            "tags": []
          },
          "execution_count": 74
        }
      ]
    },
    {
      "cell_type": "markdown",
      "metadata": {
        "id": "E0GDDI-_Z2Lz"
      },
      "source": [
        "Step 3"
      ]
    },
    {
      "cell_type": "code",
      "metadata": {
        "id": "zg7iiYnVacDK"
      },
      "source": [
        "import numpy"
      ],
      "execution_count": null,
      "outputs": []
    },
    {
      "cell_type": "code",
      "metadata": {
        "id": "2L_wUa2FZ3P8"
      },
      "source": [
        "for i in range(0,len(tel_feat)):\n",
        "  tel_feat[i] = numpy.stack( tel_feat[i], axis=0 )"
      ],
      "execution_count": null,
      "outputs": []
    },
    {
      "cell_type": "markdown",
      "metadata": {
        "id": "2Gct80JvaiOR"
      },
      "source": [
        "t = np.array(tel_feat[0:2467]) t.shape _: samples,19,39 samples: Number of 200 ms segments time steps: No of frames in it features : mfcc"
      ]
    },
    {
      "cell_type": "code",
      "metadata": {
        "id": "uwsiIUyQakIS"
      },
      "source": [
        "#t.shape _: samples,19,39 \n",
        "#samples: Number of 200 ms segments \n",
        "#time steps: No of frames in it \n",
        "#features : mfcc"
      ],
      "execution_count": null,
      "outputs": []
    },
    {
      "cell_type": "code",
      "metadata": {
        "id": "39y4r-J9akeP"
      },
      "source": [
        "t = np.array(tel_feat)"
      ],
      "execution_count": null,
      "outputs": []
    },
    {
      "cell_type": "code",
      "metadata": {
        "id": "-9UAZzKDawnR",
        "colab": {
          "base_uri": "https://localhost:8080/"
        },
        "outputId": "0051a08a-242f-4d4c-b8a4-a55496a03d9a"
      },
      "source": [
        "t.shape"
      ],
      "execution_count": null,
      "outputs": [
        {
          "output_type": "execute_result",
          "data": {
            "text/plain": [
              "(24678, 19, 39)"
            ]
          },
          "metadata": {
            "tags": []
          },
          "execution_count": 80
        }
      ]
    },
    {
      "cell_type": "code",
      "metadata": {
        "id": "gHGfv5QlqrT7"
      },
      "source": [
        "sequence = t"
      ],
      "execution_count": null,
      "outputs": []
    },
    {
      "cell_type": "code",
      "metadata": {
        "id": "wAcGwRws06_O"
      },
      "source": [
        "window_length = 19"
      ],
      "execution_count": null,
      "outputs": []
    },
    {
      "cell_type": "code",
      "metadata": {
        "id": "UwGv4lIN1gxx"
      },
      "source": [
        "from keras.layers import Input, Dense, Conv1D, MaxPooling1D, UpSampling1D, BatchNormalization, LSTM, RepeatVector\n",
        "from keras.models import Model\n",
        "from keras.models import model_from_json\n",
        "from keras import regularizers\n",
        "import datetime\n",
        "import time\n",
        "import requests as req\n",
        "import json\n",
        "import pandas as pd\n",
        "import pickle\n",
        "import os\n",
        "import numpy as np\n",
        "from sklearn.preprocessing import MinMaxScaler\n",
        "from tqdm import tqdm\n",
        "from mpl_toolkits.mplot3d import Axes3D\n",
        "import matplotlib.pyplot as plt"
      ],
      "execution_count": null,
      "outputs": []
    },
    {
      "cell_type": "code",
      "metadata": {
        "id": "p_Uj8aCWqrWP"
      },
      "source": [
        "from keras.models import Sequential\n",
        "from keras.layers import LSTM\n",
        "from keras.layers import Dense\n",
        "from keras.layers import RepeatVector\n",
        "from keras.layers import TimeDistributed\n",
        "\n",
        "# define model\n",
        "n_in = 19\n",
        "model = Sequential()\n",
        "model.add(LSTM(100, activation='relu', input_shape=(19,39)))\n",
        "model.add(RepeatVector(n_in))\n",
        "model.add(LSTM(100, activation='relu', return_sequences=True))\n",
        "model.add(TimeDistributed(Dense(39)))\n",
        "model.compile(optimizer='adam', loss='mse')"
      ],
      "execution_count": null,
      "outputs": []
    },
    {
      "cell_type": "code",
      "metadata": {
        "id": "Q1dDdm45uRCr",
        "colab": {
          "base_uri": "https://localhost:8080/"
        },
        "outputId": "eca2ba6d-2a85-40f7-c259-5c21a088723b"
      },
      "source": [
        "model.summary()"
      ],
      "execution_count": null,
      "outputs": [
        {
          "output_type": "stream",
          "text": [
            "Model: \"sequential_1\"\n",
            "_________________________________________________________________\n",
            "Layer (type)                 Output Shape              Param #   \n",
            "=================================================================\n",
            "lstm_2 (LSTM)                (None, 100)               56000     \n",
            "_________________________________________________________________\n",
            "repeat_vector_1 (RepeatVecto (None, 19, 100)           0         \n",
            "_________________________________________________________________\n",
            "lstm_3 (LSTM)                (None, 19, 100)           80400     \n",
            "_________________________________________________________________\n",
            "time_distributed_1 (TimeDist (None, 19, 39)            3939      \n",
            "=================================================================\n",
            "Total params: 140,339\n",
            "Trainable params: 140,339\n",
            "Non-trainable params: 0\n",
            "_________________________________________________________________\n"
          ],
          "name": "stdout"
        }
      ]
    },
    {
      "cell_type": "code",
      "metadata": {
        "id": "qqlsoqd7v1YA",
        "colab": {
          "base_uri": "https://localhost:8080/"
        },
        "outputId": "f3f514a4-43b2-4032-c74e-24d6a98a75a4"
      },
      "source": [
        "!gdown --id 1Ns3MPcG7SPOlAu6kkklH9X3A4SMXxxh3\n",
        "model = models.load_model(\"wts_100.h5\")#100"
      ],
      "execution_count": 135,
      "outputs": [
        {
          "output_type": "stream",
          "text": [
            "Downloading...\n",
            "From: https://drive.google.com/uc?id=1Ns3MPcG7SPOlAu6kkklH9X3A4SMXxxh3\n",
            "To: /content/wts_100.h5\n",
            "\r  0% 0.00/1.73M [00:00<?, ?B/s]\r100% 1.73M/1.73M [00:00<00:00, 53.6MB/s]\n"
          ],
          "name": "stdout"
        }
      ]
    },
    {
      "cell_type": "code",
      "metadata": {
        "id": "86BBbWSe_6M-"
      },
      "source": [
        "y_pred = model.predict(sequence, batch_size=457)"
      ],
      "execution_count": 136,
      "outputs": []
    },
    {
      "cell_type": "code",
      "metadata": {
        "colab": {
          "base_uri": "https://localhost:8080/"
        },
        "id": "0x8NQRua3449",
        "outputId": "43fb9511-d93b-4e84-94f1-45a57b13b210"
      },
      "source": [
        "sequence[0][0]"
      ],
      "execution_count": 137,
      "outputs": [
        {
          "output_type": "execute_result",
          "data": {
            "text/plain": [
              "array([-8.28719032e+00, -1.13347611e+01, -3.01328985e+01, -1.02183549e+00,\n",
              "        5.05976291e+00,  6.01580903e+00,  1.42289013e+01,  1.76303173e+01,\n",
              "        4.21620537e+00,  5.38378425e+00, -2.38234858e+00,  6.46840059e+00,\n",
              "        9.40192492e+00, -6.28889692e-02, -9.51486909e-01, -3.42003309e-01,\n",
              "       -9.88968581e-01, -2.08766134e+00,  3.97873890e-01, -1.34747231e+00,\n",
              "       -2.45847306e-01,  2.33128228e+00, -2.42901207e-01,  9.74727779e-01,\n",
              "       -1.00072325e-01, -1.33486978e+00, -1.59122761e-02,  1.37564663e-01,\n",
              "        1.48142018e-01,  4.96692185e-01,  3.04829931e-01, -3.96158790e-02,\n",
              "        3.91048911e-01,  3.36084104e-01, -7.19189540e-01, -3.65012013e-02,\n",
              "        4.59455374e-01,  1.00436816e-02, -6.19904972e-01])"
            ]
          },
          "metadata": {
            "tags": []
          },
          "execution_count": 137
        }
      ]
    },
    {
      "cell_type": "code",
      "metadata": {
        "colab": {
          "base_uri": "https://localhost:8080/"
        },
        "id": "o1x03h753nOM",
        "outputId": "d0e9f3ba-9583-457d-ac3d-79e12250c127"
      },
      "source": [
        "y_pred[0][0]"
      ],
      "execution_count": 138,
      "outputs": [
        {
          "output_type": "execute_result",
          "data": {
            "text/plain": [
              "array([-7.8742456e+00, -1.2392062e+01, -2.6106621e+01, -4.5868902e+00,\n",
              "        3.1828597e+00,  8.4367619e+00,  8.7706194e+00,  1.6867088e+01,\n",
              "        8.6274920e+00,  1.3488873e+00,  1.4838252e+00,  3.7194910e+00,\n",
              "        1.4084139e+00, -1.6332927e-01, -1.1467078e+00,  1.4366051e+00,\n",
              "        6.2197125e-01,  9.6522158e-01,  4.3573570e-01,  1.3509647e+00,\n",
              "       -1.0408504e+00, -1.5879958e+00,  1.9652996e+00,  1.2567148e+00,\n",
              "        8.3053881e-01,  5.5359018e-01,  2.5654811e-02,  9.5644444e-01,\n",
              "        4.2731982e-01,  3.9970404e-01, -8.0796635e-01, -8.1574708e-01,\n",
              "        4.8582889e-02, -1.2759534e+00, -1.2692264e+00, -6.1197567e-01,\n",
              "       -4.8609745e-02,  9.4737150e-02, -3.0713814e-01], dtype=float32)"
            ]
          },
          "metadata": {
            "tags": []
          },
          "execution_count": 138
        }
      ]
    },
    {
      "cell_type": "code",
      "metadata": {
        "id": "Lc5W5k5Iw4lY"
      },
      "source": [
        "out = model.layers[0].output\n",
        "m = Model(inputs = model.input, outputs=out)"
      ],
      "execution_count": 139,
      "outputs": []
    },
    {
      "cell_type": "code",
      "metadata": {
        "id": "xwm_juSatCAC"
      },
      "source": [
        "output = m.predict(sequence)"
      ],
      "execution_count": 140,
      "outputs": []
    },
    {
      "cell_type": "code",
      "metadata": {
        "id": "NkwKVp_BrPqd",
        "colab": {
          "base_uri": "https://localhost:8080/"
        },
        "outputId": "70f0de18-ed46-41f2-88b5-eafc9fc0a22f"
      },
      "source": [
        "print(len(output[0]))\n",
        "print(len(output))"
      ],
      "execution_count": 141,
      "outputs": [
        {
          "output_type": "stream",
          "text": [
            "100\n",
            "24678\n"
          ],
          "name": "stdout"
        }
      ]
    },
    {
      "cell_type": "code",
      "metadata": {
        "id": "fegW6HQx5C-R"
      },
      "source": [
        "features = output"
      ],
      "execution_count": 142,
      "outputs": []
    },
    {
      "cell_type": "code",
      "metadata": {
        "id": "7YNRfinJ3eCf"
      },
      "source": [
        "from sklearn.mixture import GaussianMixture\n",
        "gmm = GaussianMixture(n_components=1)"
      ],
      "execution_count": 143,
      "outputs": []
    },
    {
      "cell_type": "code",
      "metadata": {
        "colab": {
          "base_uri": "https://localhost:8080/"
        },
        "id": "AuWfJNQ04vU_",
        "outputId": "37e635fd-87a8-4c93-d3e6-1f56dda7e008"
      },
      "source": [
        "gmm.fit(features)"
      ],
      "execution_count": 144,
      "outputs": [
        {
          "output_type": "execute_result",
          "data": {
            "text/plain": [
              "GaussianMixture(covariance_type='full', init_params='kmeans', max_iter=100,\n",
              "                means_init=None, n_components=1, n_init=1, precisions_init=None,\n",
              "                random_state=None, reg_covar=1e-06, tol=0.001, verbose=0,\n",
              "                verbose_interval=10, warm_start=False, weights_init=None)"
            ]
          },
          "metadata": {
            "tags": []
          },
          "execution_count": 144
        }
      ]
    },
    {
      "cell_type": "code",
      "metadata": {
        "id": "2VnFIK5v4_5R"
      },
      "source": [
        "score = gmm.score_samples(features)"
      ],
      "execution_count": 145,
      "outputs": []
    },
    {
      "cell_type": "code",
      "metadata": {
        "colab": {
          "base_uri": "https://localhost:8080/",
          "height": 283
        },
        "id": "3ehJW5oW8ZsL",
        "outputId": "cd101b7e-18da-402d-b0e9-d4a997611f7c"
      },
      "source": [
        "plt.plot(score)"
      ],
      "execution_count": 146,
      "outputs": [
        {
          "output_type": "execute_result",
          "data": {
            "text/plain": [
              "[<matplotlib.lines.Line2D at 0x7fbc727ccd50>]"
            ]
          },
          "metadata": {
            "tags": []
          },
          "execution_count": 146
        },
        {
          "output_type": "display_data",
          "data": {
            "image/png": "[encoded data removed]",
            "text/plain": [
              "<Figure size 432x288 with 1 Axes>"
            ]
          },
          "metadata": {
            "tags": [],
            "needs_background": "light"
          }
        }
      ]
    },
    {
      "cell_type": "code",
      "metadata": {
        "colab": {
          "base_uri": "https://localhost:8080/",
          "height": 321
        },
        "id": "O4aX_lPG-Gqu",
        "outputId": "19a16d68-a244-4a30-a67c-1b1b607d4753"
      },
      "source": [
        "plt.plot(score)\n",
        "ax = plt.axes()\n",
        "ax.set_ylim(-100, 110)\n",
        "plt.show()"
      ],
      "execution_count": 148,
      "outputs": [
        {
          "output_type": "stream",
          "text": [
            "/usr/local/lib/python3.7/dist-packages/ipykernel_launcher.py:2: MatplotlibDeprecationWarning: Adding an axes using the same arguments as a previous axes currently reuses the earlier instance.  In a future version, a new instance will always be created and returned.  Meanwhile, this warning can be suppressed, and the future behavior ensured, by passing a unique label to each axes instance.\n",
            "  \n"
          ],
          "name": "stderr"
        },
        {
          "output_type": "display_data",
          "data": {
            "image/png": "[encoded data removed]",
            "text/plain": [
              "<Figure size 432x288 with 1 Axes>"
            ]
          },
          "metadata": {
            "tags": [],
            "needs_background": "light"
          }
        }
      ]
    },
    {
      "cell_type": "code",
      "metadata": {
        "colab": {
          "base_uri": "https://localhost:8080/"
        },
        "id": "uWoQe4XM7BcZ",
        "outputId": "88aec599-5fa4-448d-ad11-17f590d57fb3"
      },
      "source": [
        "print(score)"
      ],
      "execution_count": 149,
      "outputs": [
        {
          "output_type": "stream",
          "text": [
            "[83.50515481 84.70357557 87.35235955 ... 82.20661277 87.42597499\n",
            " 91.24104573]\n"
          ],
          "name": "stdout"
        }
      ]
    },
    {
      "cell_type": "code",
      "metadata": {
        "id": "iqnkJFNAXO-P"
      },
      "source": [
        ""
      ],
      "execution_count": null,
      "outputs": []
    },
    {
      "cell_type": "code",
      "metadata": {
        "id": "UZJp87qKXPAM"
      },
      "source": [
        ""
      ],
      "execution_count": null,
      "outputs": []
    },
    {
      "cell_type": "code",
      "metadata": {
        "colab": {
          "base_uri": "https://localhost:8080/"
        },
        "id": "nye7fnp5XUDm",
        "outputId": "0b17b1e9-d014-4568-91ec-3a207b38c084"
      },
      "source": [
        "!gdown --id 1eFkQ6z1N8QjlePtz9QgAaEWIwIMJMUtB\n",
        "from keras import models    \n",
        "model = models.load_model(\"wts_200.h5\")"
      ],
      "execution_count": 102,
      "outputs": [
        {
          "output_type": "stream",
          "text": [
            "Downloading...\n",
            "From: https://drive.google.com/uc?id=1eFkQ6z1N8QjlePtz9QgAaEWIwIMJMUtB\n",
            "To: /content/wts_200.h5\n",
            "\r0.00B [00:00, ?B/s]\r6.29MB [00:00, 98.9MB/s]\n"
          ],
          "name": "stdout"
        }
      ]
    },
    {
      "cell_type": "code",
      "metadata": {
        "id": "jnwp_00zXUDt"
      },
      "source": [
        "y_pred = model.predict(sequence, batch_size=457)"
      ],
      "execution_count": 103,
      "outputs": []
    },
    {
      "cell_type": "code",
      "metadata": {
        "colab": {
          "base_uri": "https://localhost:8080/"
        },
        "id": "0qd4IpjCXUDw",
        "outputId": "340a0389-7071-4de6-e4d7-81aa7ce8f274"
      },
      "source": [
        "sequence[0][0]"
      ],
      "execution_count": 104,
      "outputs": [
        {
          "output_type": "execute_result",
          "data": {
            "text/plain": [
              "array([-8.28719032e+00, -1.13347611e+01, -3.01328985e+01, -1.02183549e+00,\n",
              "        5.05976291e+00,  6.01580903e+00,  1.42289013e+01,  1.76303173e+01,\n",
              "        4.21620537e+00,  5.38378425e+00, -2.38234858e+00,  6.46840059e+00,\n",
              "        9.40192492e+00, -6.28889692e-02, -9.51486909e-01, -3.42003309e-01,\n",
              "       -9.88968581e-01, -2.08766134e+00,  3.97873890e-01, -1.34747231e+00,\n",
              "       -2.45847306e-01,  2.33128228e+00, -2.42901207e-01,  9.74727779e-01,\n",
              "       -1.00072325e-01, -1.33486978e+00, -1.59122761e-02,  1.37564663e-01,\n",
              "        1.48142018e-01,  4.96692185e-01,  3.04829931e-01, -3.96158790e-02,\n",
              "        3.91048911e-01,  3.36084104e-01, -7.19189540e-01, -3.65012013e-02,\n",
              "        4.59455374e-01,  1.00436816e-02, -6.19904972e-01])"
            ]
          },
          "metadata": {
            "tags": []
          },
          "execution_count": 104
        }
      ]
    },
    {
      "cell_type": "code",
      "metadata": {
        "colab": {
          "base_uri": "https://localhost:8080/"
        },
        "id": "JkxDFFHTXUD0",
        "outputId": "f537cccf-a372-4be5-9217-3f8c9b34856b"
      },
      "source": [
        "y_pred[0][0]"
      ],
      "execution_count": 105,
      "outputs": [
        {
          "output_type": "execute_result",
          "data": {
            "text/plain": [
              "array([-1.0288649e+01, -1.0755827e+01, -2.6081814e+01, -1.0687481e+00,\n",
              "        6.0645971e-02,  3.9875073e+00,  8.7360697e+00,  1.2115332e+01,\n",
              "        5.9354649e+00,  1.9424919e+00,  2.1997600e+00,  8.9951582e+00,\n",
              "        5.4036241e+00, -2.3610123e-01, -1.1623992e+00, -1.0099643e+00,\n",
              "        1.6428951e+00,  1.1438563e+00,  1.0954878e+00,  1.1589987e+00,\n",
              "        1.7964438e+00,  8.4315497e-01,  1.5437273e+00,  5.9165168e-01,\n",
              "       -8.0128711e-01,  1.9000174e+00, -1.8581243e-01, -8.9539319e-01,\n",
              "        4.7678262e-01, -1.4267901e-01,  6.6250461e-01,  3.7756699e-01,\n",
              "       -4.7687091e-02, -2.5391478e-02, -8.0678821e-02, -2.7473769e-01,\n",
              "       -4.8459804e-01, -3.2937029e-01,  1.6742127e-01], dtype=float32)"
            ]
          },
          "metadata": {
            "tags": []
          },
          "execution_count": 105
        }
      ]
    },
    {
      "cell_type": "code",
      "metadata": {
        "id": "QN_GU3RoXUD2"
      },
      "source": [
        "out = model.layers[0].output\n",
        "m = Model(inputs = model.input, outputs=out)"
      ],
      "execution_count": 106,
      "outputs": []
    },
    {
      "cell_type": "code",
      "metadata": {
        "id": "MoiSmhTUXUD4"
      },
      "source": [
        "output = m.predict(sequence)"
      ],
      "execution_count": 107,
      "outputs": []
    },
    {
      "cell_type": "code",
      "metadata": {
        "colab": {
          "base_uri": "https://localhost:8080/"
        },
        "id": "XOI9ikfcXUD5",
        "outputId": "12f0cf3f-0bc0-4a22-b9ac-fd08e963b294"
      },
      "source": [
        "print(len(output[0]))\n",
        "print(len(output))"
      ],
      "execution_count": 108,
      "outputs": [
        {
          "output_type": "stream",
          "text": [
            "200\n",
            "24678\n"
          ],
          "name": "stdout"
        }
      ]
    },
    {
      "cell_type": "code",
      "metadata": {
        "id": "es1mqfvbXUD7"
      },
      "source": [
        "features = output"
      ],
      "execution_count": 109,
      "outputs": []
    },
    {
      "cell_type": "code",
      "metadata": {
        "id": "91YHvzyeXUD9"
      },
      "source": [
        "from sklearn.mixture import GaussianMixture\n",
        "gmm = GaussianMixture(n_components=1)"
      ],
      "execution_count": 110,
      "outputs": []
    },
    {
      "cell_type": "code",
      "metadata": {
        "colab": {
          "base_uri": "https://localhost:8080/"
        },
        "id": "m2rs5wjPXUEA",
        "outputId": "7ba72bc1-c99c-4c50-fcd3-9050e11773c5"
      },
      "source": [
        "gmm.fit(features)"
      ],
      "execution_count": 111,
      "outputs": [
        {
          "output_type": "execute_result",
          "data": {
            "text/plain": [
              "GaussianMixture(covariance_type='full', init_params='kmeans', max_iter=100,\n",
              "                means_init=None, n_components=1, n_init=1, precisions_init=None,\n",
              "                random_state=None, reg_covar=1e-06, tol=0.001, verbose=0,\n",
              "                verbose_interval=10, warm_start=False, weights_init=None)"
            ]
          },
          "metadata": {
            "tags": []
          },
          "execution_count": 111
        }
      ]
    },
    {
      "cell_type": "code",
      "metadata": {
        "id": "1Hgr0aGvXUEB"
      },
      "source": [
        "score = gmm.score_samples(features)"
      ],
      "execution_count": 112,
      "outputs": []
    },
    {
      "cell_type": "code",
      "metadata": {
        "colab": {
          "base_uri": "https://localhost:8080/",
          "height": 283
        },
        "id": "YLEyUekmXUEB",
        "outputId": "369a0f33-fe5c-43cc-d44b-b21f9a2e15d9"
      },
      "source": [
        "plt.plot(score)"
      ],
      "execution_count": 113,
      "outputs": [
        {
          "output_type": "execute_result",
          "data": {
            "text/plain": [
              "[<matplotlib.lines.Line2D at 0x7fbc77589350>]"
            ]
          },
          "metadata": {
            "tags": []
          },
          "execution_count": 113
        },
        {
          "output_type": "display_data",
          "data": {
            "image/png": "[encoded data removed]",
            "text/plain": [
              "<Figure size 432x288 with 1 Axes>"
            ]
          },
          "metadata": {
            "tags": [],
            "needs_background": "light"
          }
        }
      ]
    },
    {
      "cell_type": "code",
      "metadata": {
        "colab": {
          "base_uri": "https://localhost:8080/",
          "height": 321
        },
        "id": "TX3J0NWUXUEB",
        "outputId": "5faf9a8e-4c34-43ab-d85b-71044d73f6f1"
      },
      "source": [
        "plt.plot(score)\n",
        "ax = plt.axes()\n",
        "ax.set_ylim(-1000, 300)\n",
        "plt.show()"
      ],
      "execution_count": 117,
      "outputs": [
        {
          "output_type": "stream",
          "text": [
            "/usr/local/lib/python3.7/dist-packages/ipykernel_launcher.py:2: MatplotlibDeprecationWarning: Adding an axes using the same arguments as a previous axes currently reuses the earlier instance.  In a future version, a new instance will always be created and returned.  Meanwhile, this warning can be suppressed, and the future behavior ensured, by passing a unique label to each axes instance.\n",
            "  \n"
          ],
          "name": "stderr"
        },
        {
          "output_type": "display_data",
          "data": {
            "image/png": "[encoded data removed]",
            "text/plain": [
              "<Figure size 432x288 with 1 Axes>"
            ]
          },
          "metadata": {
            "tags": [],
            "needs_background": "light"
          }
        }
      ]
    },
    {
      "cell_type": "code",
      "metadata": {
        "colab": {
          "base_uri": "https://localhost:8080/"
        },
        "id": "1xvKLVq4XUEC",
        "outputId": "552b2fee-4f2a-4ca2-ae53-3c6d6072e95e"
      },
      "source": [
        "print(score)"
      ],
      "execution_count": 115,
      "outputs": [
        {
          "output_type": "stream",
          "text": [
            "[261.68439739 266.55779307 265.48265768 ... 260.51021244 264.63623213\n",
            " 269.74066837]\n"
          ],
          "name": "stdout"
        }
      ]
    },
    {
      "cell_type": "code",
      "metadata": {
        "id": "qi180e70YUMy"
      },
      "source": [
        ""
      ],
      "execution_count": null,
      "outputs": []
    },
    {
      "cell_type": "code",
      "metadata": {
        "id": "pqPFTc_-YUM1"
      },
      "source": [
        ""
      ],
      "execution_count": null,
      "outputs": []
    },
    {
      "cell_type": "code",
      "metadata": {
        "colab": {
          "base_uri": "https://localhost:8080/"
        },
        "id": "-AG9aK0XYUM3",
        "outputId": "ad09249b-ee4a-4788-a4e8-8f7116bc55c1"
      },
      "source": [
        "!gdown --id 1nOhsFfloSNEtRQf7Bsgsvk2AFrOl93Tz\n",
        "from keras import models    \n",
        "model = models.load_model(\"wts_500.h5\")"
      ],
      "execution_count": 118,
      "outputs": [
        {
          "output_type": "stream",
          "text": [
            "Downloading...\n",
            "From: https://drive.google.com/uc?id=1nOhsFfloSNEtRQf7Bsgsvk2AFrOl93Tz\n",
            "To: /content/wts_500.h5\n",
            "37.3MB [00:00, 48.2MB/s]\n"
          ],
          "name": "stdout"
        }
      ]
    },
    {
      "cell_type": "code",
      "metadata": {
        "id": "Kgvd1cSnYUM8"
      },
      "source": [
        "y_pred = model.predict(sequence, batch_size=457)"
      ],
      "execution_count": 119,
      "outputs": []
    },
    {
      "cell_type": "code",
      "metadata": {
        "colab": {
          "base_uri": "https://localhost:8080/"
        },
        "id": "VB829yTYYUM_",
        "outputId": "666ee453-6548-4873-8049-5e8bb06a8955"
      },
      "source": [
        "sequence[0][0]"
      ],
      "execution_count": 120,
      "outputs": [
        {
          "output_type": "execute_result",
          "data": {
            "text/plain": [
              "array([-8.28719032e+00, -1.13347611e+01, -3.01328985e+01, -1.02183549e+00,\n",
              "        5.05976291e+00,  6.01580903e+00,  1.42289013e+01,  1.76303173e+01,\n",
              "        4.21620537e+00,  5.38378425e+00, -2.38234858e+00,  6.46840059e+00,\n",
              "        9.40192492e+00, -6.28889692e-02, -9.51486909e-01, -3.42003309e-01,\n",
              "       -9.88968581e-01, -2.08766134e+00,  3.97873890e-01, -1.34747231e+00,\n",
              "       -2.45847306e-01,  2.33128228e+00, -2.42901207e-01,  9.74727779e-01,\n",
              "       -1.00072325e-01, -1.33486978e+00, -1.59122761e-02,  1.37564663e-01,\n",
              "        1.48142018e-01,  4.96692185e-01,  3.04829931e-01, -3.96158790e-02,\n",
              "        3.91048911e-01,  3.36084104e-01, -7.19189540e-01, -3.65012013e-02,\n",
              "        4.59455374e-01,  1.00436816e-02, -6.19904972e-01])"
            ]
          },
          "metadata": {
            "tags": []
          },
          "execution_count": 120
        }
      ]
    },
    {
      "cell_type": "code",
      "metadata": {
        "colab": {
          "base_uri": "https://localhost:8080/"
        },
        "id": "q-KgzssiYUND",
        "outputId": "6c939aeb-ed19-4b0a-dced-60f6296ea0eb"
      },
      "source": [
        "y_pred[0][0]"
      ],
      "execution_count": 121,
      "outputs": [
        {
          "output_type": "execute_result",
          "data": {
            "text/plain": [
              "array([ -7.5838194 , -12.210779  , -26.949188  ,  -3.6220136 ,\n",
              "         1.7236384 ,   4.6782565 ,  12.602626  ,  17.854366  ,\n",
              "         9.817498  ,   4.0012007 ,  -0.48535764,   2.6788836 ,\n",
              "         4.8592305 ,  -0.30456856,  -1.5718881 ,  -0.83509177,\n",
              "         0.81801486,   0.4968012 ,   0.1786116 ,   0.33506724,\n",
              "        -0.08206129,   0.44569197,  -0.7056262 ,   1.8798455 ,\n",
              "         0.57693267,  -1.177276  ,   0.25035626,   0.4285033 ,\n",
              "         0.8755863 ,   0.24005572,   0.1317506 ,   0.30908284,\n",
              "        -0.5012005 ,  -1.4332693 ,   0.33010757,   0.5967388 ,\n",
              "         0.14693326,  -0.52807355,   0.2432347 ], dtype=float32)"
            ]
          },
          "metadata": {
            "tags": []
          },
          "execution_count": 121
        }
      ]
    },
    {
      "cell_type": "code",
      "metadata": {
        "id": "MGgwiaCdYUNI"
      },
      "source": [
        "out = model.layers[0].output\n",
        "m = Model(inputs = model.input, outputs=out)"
      ],
      "execution_count": 122,
      "outputs": []
    },
    {
      "cell_type": "code",
      "metadata": {
        "id": "eQEbiYz_YUNK"
      },
      "source": [
        "output = m.predict(sequence)"
      ],
      "execution_count": 123,
      "outputs": []
    },
    {
      "cell_type": "code",
      "metadata": {
        "colab": {
          "base_uri": "https://localhost:8080/"
        },
        "id": "fmWycR_5YUNM",
        "outputId": "3f5c382f-0d69-4aa2-a5a6-0b61759d517c"
      },
      "source": [
        "print(len(output[0]))\n",
        "print(len(output))"
      ],
      "execution_count": 124,
      "outputs": [
        {
          "output_type": "stream",
          "text": [
            "500\n",
            "24678\n"
          ],
          "name": "stdout"
        }
      ]
    },
    {
      "cell_type": "code",
      "metadata": {
        "id": "9lRfVqqMYUNN"
      },
      "source": [
        "features = output"
      ],
      "execution_count": 125,
      "outputs": []
    },
    {
      "cell_type": "code",
      "metadata": {
        "id": "BxmM2sw6YUNO"
      },
      "source": [
        "from sklearn.mixture import GaussianMixture\n",
        "gmm = GaussianMixture(n_components=1)"
      ],
      "execution_count": 126,
      "outputs": []
    },
    {
      "cell_type": "code",
      "metadata": {
        "colab": {
          "base_uri": "https://localhost:8080/"
        },
        "id": "Bdu6JhNlYUNR",
        "outputId": "900e7127-e126-45c6-92a4-dde91c31224d"
      },
      "source": [
        "gmm.fit(features)"
      ],
      "execution_count": 127,
      "outputs": [
        {
          "output_type": "execute_result",
          "data": {
            "text/plain": [
              "GaussianMixture(covariance_type='full', init_params='kmeans', max_iter=100,\n",
              "                means_init=None, n_components=1, n_init=1, precisions_init=None,\n",
              "                random_state=None, reg_covar=1e-06, tol=0.001, verbose=0,\n",
              "                verbose_interval=10, warm_start=False, weights_init=None)"
            ]
          },
          "metadata": {
            "tags": []
          },
          "execution_count": 127
        }
      ]
    },
    {
      "cell_type": "code",
      "metadata": {
        "id": "PNIFXva7YUNS"
      },
      "source": [
        "score = gmm.score_samples(features)"
      ],
      "execution_count": 128,
      "outputs": []
    },
    {
      "cell_type": "code",
      "metadata": {
        "colab": {
          "base_uri": "https://localhost:8080/",
          "height": 283
        },
        "id": "Gdxi75bOYUNT",
        "outputId": "51e815cd-d782-430f-e1e2-11079f153c4e"
      },
      "source": [
        "plt.plot(score)"
      ],
      "execution_count": 129,
      "outputs": [
        {
          "output_type": "execute_result",
          "data": {
            "text/plain": [
              "[<matplotlib.lines.Line2D at 0x7fbc8b144090>]"
            ]
          },
          "metadata": {
            "tags": []
          },
          "execution_count": 129
        },
        {
          "output_type": "display_data",
          "data": {
            "image/png": "[encoded data removed]",
            "text/plain": [
              "<Figure size 432x288 with 1 Axes>"
            ]
          },
          "metadata": {
            "tags": [],
            "needs_background": "light"
          }
        }
      ]
    },
    {
      "cell_type": "code",
      "metadata": {
        "colab": {
          "base_uri": "https://localhost:8080/",
          "height": 321
        },
        "id": "Qjuy6KieYUNU",
        "outputId": "2448fa47-f8fc-470b-8968-fc7a8a8e21e7"
      },
      "source": [
        "plt.plot(score)\n",
        "ax = plt.axes()\n",
        "ax.set_ylim(-2000, 600)\n",
        "plt.show()"
      ],
      "execution_count": 134,
      "outputs": [
        {
          "output_type": "stream",
          "text": [
            "/usr/local/lib/python3.7/dist-packages/ipykernel_launcher.py:2: MatplotlibDeprecationWarning: Adding an axes using the same arguments as a previous axes currently reuses the earlier instance.  In a future version, a new instance will always be created and returned.  Meanwhile, this warning can be suppressed, and the future behavior ensured, by passing a unique label to each axes instance.\n",
            "  \n"
          ],
          "name": "stderr"
        },
        {
          "output_type": "display_data",
          "data": {
            "image/png": "[encoded data removed]",
            "text/plain": [
              "<Figure size 432x288 with 1 Axes>"
            ]
          },
          "metadata": {
            "tags": [],
            "needs_background": "light"
          }
        }
      ]
    },
    {
      "cell_type": "code",
      "metadata": {
        "colab": {
          "base_uri": "https://localhost:8080/"
        },
        "id": "21kG0aTSYUNV",
        "outputId": "c171b99d-56e1-4f9f-8161-0761f66ff076"
      },
      "source": [
        "print(score)"
      ],
      "execution_count": 131,
      "outputs": [
        {
          "output_type": "stream",
          "text": [
            "[342.61315764 455.73643524 442.35902147 ... 417.54539889 446.76530296\n",
            " 400.83267278]\n"
          ],
          "name": "stdout"
        }
      ]
    }
  ]
}