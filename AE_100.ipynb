{
  "nbformat": 4,
  "nbformat_minor": 0,
  "metadata": {
    "colab": {
      "name": "AE_100.ipynb",
      "provenance": [],
      "collapsed_sections": [],
      "include_colab_link": true
    },
    "kernelspec": {
      "name": "python3",
      "display_name": "Python 3"
    },
    "language_info": {
      "name": "python"
    }
  },
  "cells": [
    {
      "cell_type": "markdown",
      "metadata": {
        "id": "view-in-github",
        "colab_type": "text"
      },
      "source": [
        "<a href=\"https://colab.research.google.com/github/Joshitha18/Language_Diarization/blob/main/AE_100.ipynb\" target=\"_parent\"><img src=\"https://colab.research.google.com/assets/colab-badge.svg\" alt=\"Open In Colab\"/></a>"
      ]
    },
    {
      "cell_type": "code",
      "metadata": {
        "colab": {
          "base_uri": "https://localhost:8080/"
        },
        "id": "Wbrq8_bKRfBz",
        "outputId": "da81f855-e503-4e4b-b39e-348f7c8988f3"
      },
      "source": [
        "from google.colab import drive\n",
        "drive.mount(\"/content/gdrive\")"
      ],
      "execution_count": 3,
      "outputs": [
        {
          "output_type": "stream",
          "text": [
            "Mounted at /content/gdrive\n"
          ],
          "name": "stdout"
        }
      ]
    },
    {
      "cell_type": "code",
      "metadata": {
        "id": "ts3BqGOJSFaK",
        "colab": {
          "base_uri": "https://localhost:8080/"
        },
        "outputId": "385a389c-b6fe-4ce7-bf3f-deb367a302ed"
      },
      "source": [
        "pip install python_speech_features"
      ],
      "execution_count": 4,
      "outputs": [
        {
          "output_type": "stream",
          "text": [
            "Collecting python_speech_features\n",
            "  Downloading https://files.pythonhosted.org/packages/ff/d1/94c59e20a2631985fbd2124c45177abaa9e0a4eee8ba8a305aa26fc02a8e/python_speech_features-0.6.tar.gz\n",
            "Building wheels for collected packages: python-speech-features\n",
            "  Building wheel for python-speech-features (setup.py) ... \u001b[?25l\u001b[?25hdone\n",
            "  Created wheel for python-speech-features: filename=python_speech_features-0.6-cp37-none-any.whl size=5888 sha256=8e2ab0baf375d46b3d10ab054c0a20965266c6a219cf6c013607fc5cec9d04c8\n",
            "  Stored in directory: /root/.cache/pip/wheels/3c/42/7c/f60e9d1b40015cd69b213ad90f7c18a9264cd745b9888134be\n",
            "Successfully built python-speech-features\n",
            "Installing collected packages: python-speech-features\n",
            "Successfully installed python-speech-features-0.6\n"
          ],
          "name": "stdout"
        }
      ]
    },
    {
      "cell_type": "code",
      "metadata": {
        "id": "aJv2VSNUSC7a"
      },
      "source": [
        "import python_speech_features\n",
        "import numpy as np\n",
        "import soundfile as sf\n",
        "import pickle\n",
        "import cv2\n",
        "import glob"
      ],
      "execution_count": 5,
      "outputs": []
    },
    {
      "cell_type": "markdown",
      "metadata": {
        "id": "hw6TzM0tRVlK"
      },
      "source": [
        "Step 1: Take 1000 files and find 200ms telugu segments in each"
      ]
    },
    {
      "cell_type": "code",
      "metadata": {
        "id": "SceOvLqYxycx",
        "colab": {
          "base_uri": "https://localhost:8080/"
        },
        "outputId": "9ad96a23-e598-4674-b184-61166e8acffd"
      },
      "source": [
        "!gdown --id 1SzFGWDqv7_GNDl0x2nKT-cE0PRiPpoK7"
      ],
      "execution_count": 6,
      "outputs": [
        {
          "output_type": "stream",
          "text": [
            "Downloading...\n",
            "From: https://drive.google.com/uc?id=1SzFGWDqv7_GNDl0x2nKT-cE0PRiPpoK7\n",
            "To: /content/telugu_feat_1000.pkl\n",
            "148MB [00:03, 37.2MB/s]\n"
          ],
          "name": "stdout"
        }
      ]
    },
    {
      "cell_type": "code",
      "metadata": {
        "id": "z55iNN4faL4c"
      },
      "source": [
        "feat_file = open('telugu_feat_1000.pkl', \"rb\")\n",
        "tel_feat = pickle.load(feat_file)"
      ],
      "execution_count": 7,
      "outputs": []
    },
    {
      "cell_type": "code",
      "metadata": {
        "colab": {
          "base_uri": "https://localhost:8080/"
        },
        "id": "qrSBF5wuaWWS",
        "outputId": "838f3efb-74ed-4d3b-9505-78977565c7fe"
      },
      "source": [
        "len(tel_feat[0][18])"
      ],
      "execution_count": 8,
      "outputs": [
        {
          "output_type": "execute_result",
          "data": {
            "text/plain": [
              "39"
            ]
          },
          "metadata": {
            "tags": []
          },
          "execution_count": 8
        }
      ]
    },
    {
      "cell_type": "markdown",
      "metadata": {
        "id": "E0GDDI-_Z2Lz"
      },
      "source": [
        "Step 3"
      ]
    },
    {
      "cell_type": "code",
      "metadata": {
        "id": "zg7iiYnVacDK"
      },
      "source": [
        "import numpy"
      ],
      "execution_count": 9,
      "outputs": []
    },
    {
      "cell_type": "code",
      "metadata": {
        "id": "2L_wUa2FZ3P8"
      },
      "source": [
        "for i in range(0,len(tel_feat)):\n",
        "  tel_feat[i] = numpy.stack( tel_feat[i], axis=0 )"
      ],
      "execution_count": 10,
      "outputs": []
    },
    {
      "cell_type": "markdown",
      "metadata": {
        "id": "2Gct80JvaiOR"
      },
      "source": [
        "t = np.array(tel_feat[0:2467]) t.shape _: samples,19,39 samples: Number of 200 ms segments time steps: No of frames in it features : mfcc"
      ]
    },
    {
      "cell_type": "code",
      "metadata": {
        "id": "uwsiIUyQakIS"
      },
      "source": [
        "#t.shape _: samples,19,39 \n",
        "#samples: Number of 200 ms segments \n",
        "#time steps: No of frames in it \n",
        "#features : mfcc"
      ],
      "execution_count": 11,
      "outputs": []
    },
    {
      "cell_type": "code",
      "metadata": {
        "id": "39y4r-J9akeP"
      },
      "source": [
        "t = np.array(tel_feat)"
      ],
      "execution_count": 12,
      "outputs": []
    },
    {
      "cell_type": "code",
      "metadata": {
        "id": "-9UAZzKDawnR",
        "colab": {
          "base_uri": "https://localhost:8080/"
        },
        "outputId": "8f9f08fe-e57b-479e-9411-19df598a47b6"
      },
      "source": [
        "t.shape"
      ],
      "execution_count": 13,
      "outputs": [
        {
          "output_type": "execute_result",
          "data": {
            "text/plain": [
              "(24678, 19, 39)"
            ]
          },
          "metadata": {
            "tags": []
          },
          "execution_count": 13
        }
      ]
    },
    {
      "cell_type": "code",
      "metadata": {
        "id": "gHGfv5QlqrT7"
      },
      "source": [
        "sequence = t"
      ],
      "execution_count": 14,
      "outputs": []
    },
    {
      "cell_type": "code",
      "metadata": {
        "id": "wAcGwRws06_O"
      },
      "source": [
        "window_length = 19"
      ],
      "execution_count": 19,
      "outputs": []
    },
    {
      "cell_type": "code",
      "metadata": {
        "id": "oVYKy_HaNDq7"
      },
      "source": [
        "train_size = 90\n",
        "val_size = 10\n",
        "train, val= sequence[:int(len(sequence)*train_size/100)],sequence[-int(len(sequence)*val_size/100):]"
      ],
      "execution_count": 20,
      "outputs": []
    },
    {
      "cell_type": "code",
      "metadata": {
        "colab": {
          "base_uri": "https://localhost:8080/"
        },
        "id": "KyZZ34lQORCl",
        "outputId": "92503eac-0854-4ad4-bbe1-e0d0837f22c5"
      },
      "source": [
        "train.shape,val.shape"
      ],
      "execution_count": 22,
      "outputs": [
        {
          "output_type": "execute_result",
          "data": {
            "text/plain": [
              "((22210, 19, 39), (2467, 19, 39))"
            ]
          },
          "metadata": {
            "tags": []
          },
          "execution_count": 22
        }
      ]
    },
    {
      "cell_type": "code",
      "metadata": {
        "id": "UwGv4lIN1gxx"
      },
      "source": [
        "from keras.layers import Input, Dense, Conv2D, MaxPooling2D, UpSampling2D, BatchNormalization, LSTM, RepeatVector\n",
        "from keras.models import Model\n",
        "from keras.models import model_from_json\n",
        "from keras import regularizers\n",
        "import datetime\n",
        "import time\n",
        "import requests as req\n",
        "import json\n",
        "import pandas as pd\n",
        "import pickle\n",
        "import os\n",
        "import numpy as np\n",
        "from sklearn.preprocessing import MinMaxScaler\n",
        "from tqdm import tqdm\n",
        "from mpl_toolkits.mplot3d import Axes3D\n",
        "import matplotlib.pyplot as plt\n",
        "from keras import callbacks\n",
        "from keras.callbacks import ModelCheckpoint,ReduceLROnPlateau"
      ],
      "execution_count": 23,
      "outputs": []
    },
    {
      "cell_type": "code",
      "metadata": {
        "id": "p_Uj8aCWqrWP"
      },
      "source": [
        "from keras.models import Sequential\n",
        "from keras.layers import LSTM\n",
        "from keras.layers import Dense\n",
        "from keras.layers import RepeatVector\n",
        "from keras.layers import TimeDistributed\n",
        "\n",
        "# define model\n",
        "n_in = 19\n",
        "model = Sequential()\n",
        "model.add(LSTM(100, activation='relu', input_shape=(19,39)))\n",
        "model.add(RepeatVector(n_in))\n",
        "model.add(LSTM(100, activation='relu', return_sequences=True))\n",
        "model.add(TimeDistributed(Dense(39)))\n",
        "model.compile(optimizer='adam', loss='mse')"
      ],
      "execution_count": 27,
      "outputs": []
    },
    {
      "cell_type": "code",
      "metadata": {
        "colab": {
          "base_uri": "https://localhost:8080/"
        },
        "id": "Q1dDdm45uRCr",
        "outputId": "1cc6172e-1a47-41e3-b2a7-6597ddd206b2"
      },
      "source": [
        "model.summary()"
      ],
      "execution_count": 28,
      "outputs": [
        {
          "output_type": "stream",
          "text": [
            "Model: \"sequential_1\"\n",
            "_________________________________________________________________\n",
            "Layer (type)                 Output Shape              Param #   \n",
            "=================================================================\n",
            "lstm_2 (LSTM)                (None, 100)               56000     \n",
            "_________________________________________________________________\n",
            "repeat_vector_1 (RepeatVecto (None, 19, 100)           0         \n",
            "_________________________________________________________________\n",
            "lstm_3 (LSTM)                (None, 19, 100)           80400     \n",
            "_________________________________________________________________\n",
            "time_distributed_1 (TimeDist (None, 19, 39)            3939      \n",
            "=================================================================\n",
            "Total params: 140,339\n",
            "Trainable params: 140,339\n",
            "Non-trainable params: 0\n",
            "_________________________________________________________________\n"
          ],
          "name": "stdout"
        }
      ]
    },
    {
      "cell_type": "code",
      "metadata": {
        "colab": {
          "base_uri": "https://localhost:8080/"
        },
        "id": "SmrGHdZKVY9W",
        "outputId": "f71f0ed5-39eb-4d68-ae0b-c31537c2dd19"
      },
      "source": [
        "earlystopping = callbacks.EarlyStopping(monitor =\"val_loss\", mode =\"min\", patience = 7)\n",
        "model_save = ModelCheckpoint('wts_100.h5', save_best_only=True, monitor='val_loss', mode='min')\n",
        "reduce_lr_loss = ReduceLROnPlateau(monitor='val_loss', factor=0.1, patience=5, verbose=1, min_delta=0.1, mode='min')\n",
        "model.fit(train, train, epochs=100, verbose=1, batch_size=457,validation_data=(val,val), callbacks=[earlystopping, model_save, reduce_lr_loss])"
      ],
      "execution_count": 29,
      "outputs": [
        {
          "output_type": "stream",
          "text": [
            "Epoch 1/100\n",
            "49/49 [==============================] - 29s 233ms/step - loss: 204.7264 - val_loss: 82.8482\n",
            "Epoch 2/100\n",
            "49/49 [==============================] - 10s 210ms/step - loss: 79.6455 - val_loss: 71.8810\n",
            "Epoch 3/100\n",
            "49/49 [==============================] - 10s 210ms/step - loss: 69.1638 - val_loss: 65.6143\n",
            "Epoch 4/100\n",
            "49/49 [==============================] - 10s 208ms/step - loss: 62.7454 - val_loss: 62.0927\n",
            "Epoch 5/100\n",
            "49/49 [==============================] - 10s 212ms/step - loss: 58.3411 - val_loss: 59.6771\n",
            "Epoch 6/100\n",
            "49/49 [==============================] - 10s 209ms/step - loss: 55.1259 - val_loss: 57.2148\n",
            "Epoch 7/100\n",
            "49/49 [==============================] - 10s 209ms/step - loss: 52.2684 - val_loss: 55.2513\n",
            "Epoch 8/100\n",
            "49/49 [==============================] - 10s 210ms/step - loss: 50.4675 - val_loss: 53.2116\n",
            "Epoch 9/100\n",
            "49/49 [==============================] - 10s 210ms/step - loss: 48.9441 - val_loss: 51.8821\n",
            "Epoch 10/100\n",
            "49/49 [==============================] - 10s 211ms/step - loss: 47.2679 - val_loss: 49.6782\n",
            "Epoch 11/100\n",
            "49/49 [==============================] - 10s 210ms/step - loss: 45.3321 - val_loss: 48.1462\n",
            "Epoch 12/100\n",
            "49/49 [==============================] - 10s 210ms/step - loss: 43.6928 - val_loss: 46.7884\n",
            "Epoch 13/100\n",
            "49/49 [==============================] - 10s 211ms/step - loss: 42.8171 - val_loss: 46.0875\n",
            "Epoch 14/100\n",
            "49/49 [==============================] - 10s 210ms/step - loss: 41.3275 - val_loss: 44.3238\n",
            "Epoch 15/100\n",
            "49/49 [==============================] - 10s 211ms/step - loss: 40.0534 - val_loss: 42.8052\n",
            "Epoch 16/100\n",
            "49/49 [==============================] - 10s 212ms/step - loss: 38.4708 - val_loss: 41.1950\n",
            "Epoch 17/100\n",
            "49/49 [==============================] - 10s 211ms/step - loss: 37.1720 - val_loss: 39.6039\n",
            "Epoch 18/100\n",
            "49/49 [==============================] - 11s 215ms/step - loss: 35.7899 - val_loss: 38.2653\n",
            "Epoch 19/100\n",
            "49/49 [==============================] - 11s 214ms/step - loss: 34.4262 - val_loss: 36.8151\n",
            "Epoch 20/100\n",
            "49/49 [==============================] - 10s 213ms/step - loss: 33.0989 - val_loss: 35.5040\n",
            "Epoch 21/100\n",
            "49/49 [==============================] - 10s 214ms/step - loss: 31.8027 - val_loss: 33.6475\n",
            "Epoch 22/100\n",
            "49/49 [==============================] - 11s 217ms/step - loss: 30.2799 - val_loss: 32.5623\n",
            "Epoch 23/100\n",
            "49/49 [==============================] - 10s 213ms/step - loss: 29.1746 - val_loss: 31.1582\n",
            "Epoch 24/100\n",
            "49/49 [==============================] - 10s 213ms/step - loss: 28.3173 - val_loss: 30.5977\n",
            "Epoch 25/100\n",
            "49/49 [==============================] - 10s 212ms/step - loss: 27.5626 - val_loss: 29.5636\n",
            "Epoch 26/100\n",
            "49/49 [==============================] - 10s 210ms/step - loss: 26.9000 - val_loss: 29.1517\n",
            "Epoch 27/100\n",
            "49/49 [==============================] - 10s 212ms/step - loss: 26.3070 - val_loss: 28.2610\n",
            "Epoch 28/100\n",
            "49/49 [==============================] - 11s 216ms/step - loss: 25.7776 - val_loss: 28.0978\n",
            "Epoch 29/100\n",
            "49/49 [==============================] - 10s 214ms/step - loss: 25.4570 - val_loss: 27.4005\n",
            "Epoch 30/100\n",
            "49/49 [==============================] - 10s 214ms/step - loss: 24.7944 - val_loss: 26.8074\n",
            "Epoch 31/100\n",
            "49/49 [==============================] - 10s 214ms/step - loss: 24.4614 - val_loss: 26.4438\n",
            "Epoch 32/100\n",
            "49/49 [==============================] - 11s 215ms/step - loss: 24.1083 - val_loss: 26.2937\n",
            "Epoch 33/100\n",
            "49/49 [==============================] - 11s 215ms/step - loss: 23.7294 - val_loss: 25.6625\n",
            "Epoch 34/100\n",
            "49/49 [==============================] - 11s 218ms/step - loss: 23.3576 - val_loss: 25.4265\n",
            "Epoch 35/100\n",
            "49/49 [==============================] - 11s 216ms/step - loss: 23.0211 - val_loss: 24.9236\n",
            "Epoch 36/100\n",
            "49/49 [==============================] - 10s 213ms/step - loss: 22.7249 - val_loss: 24.7658\n",
            "Epoch 37/100\n",
            "49/49 [==============================] - 10s 212ms/step - loss: 22.5279 - val_loss: 24.6079\n",
            "Epoch 38/100\n",
            "49/49 [==============================] - 11s 215ms/step - loss: 22.2679 - val_loss: 24.3714\n",
            "Epoch 39/100\n",
            "49/49 [==============================] - 10s 213ms/step - loss: 22.0559 - val_loss: 24.0234\n",
            "Epoch 40/100\n",
            "49/49 [==============================] - 10s 213ms/step - loss: 21.7808 - val_loss: 23.6941\n",
            "Epoch 41/100\n",
            "49/49 [==============================] - 10s 215ms/step - loss: 21.6324 - val_loss: 23.5359\n",
            "Epoch 42/100\n",
            "49/49 [==============================] - 10s 209ms/step - loss: 21.2861 - val_loss: 23.0663\n",
            "Epoch 43/100\n",
            "49/49 [==============================] - 10s 212ms/step - loss: 21.1744 - val_loss: 22.8751\n",
            "Epoch 44/100\n",
            "49/49 [==============================] - 10s 212ms/step - loss: 20.8514 - val_loss: 22.6585\n",
            "Epoch 45/100\n",
            "49/49 [==============================] - 10s 214ms/step - loss: 20.8033 - val_loss: 22.2541\n",
            "Epoch 46/100\n",
            "49/49 [==============================] - 10s 212ms/step - loss: 20.6089 - val_loss: 22.6219\n",
            "Epoch 47/100\n",
            "49/49 [==============================] - 11s 215ms/step - loss: 20.3784 - val_loss: 22.4020\n",
            "Epoch 48/100\n",
            "49/49 [==============================] - 10s 214ms/step - loss: 20.1877 - val_loss: 21.8778\n",
            "Epoch 49/100\n",
            "49/49 [==============================] - 11s 215ms/step - loss: 19.9362 - val_loss: 21.8888\n",
            "Epoch 50/100\n",
            "49/49 [==============================] - 11s 216ms/step - loss: 19.8689 - val_loss: 22.3156\n",
            "Epoch 51/100\n",
            "49/49 [==============================] - 11s 215ms/step - loss: 19.8882 - val_loss: 21.8575\n",
            "Epoch 52/100\n",
            "49/49 [==============================] - 10s 211ms/step - loss: 19.5430 - val_loss: 21.5357\n",
            "Epoch 53/100\n",
            "49/49 [==============================] - 10s 213ms/step - loss: 19.3709 - val_loss: 21.1865\n",
            "Epoch 54/100\n",
            "49/49 [==============================] - 10s 214ms/step - loss: 19.2834 - val_loss: 20.8391\n",
            "Epoch 55/100\n",
            "49/49 [==============================] - 10s 214ms/step - loss: 19.1080 - val_loss: 21.3063\n",
            "Epoch 56/100\n",
            "49/49 [==============================] - 10s 214ms/step - loss: 19.0181 - val_loss: 21.0930\n",
            "Epoch 57/100\n",
            "49/49 [==============================] - 10s 214ms/step - loss: 18.9120 - val_loss: 20.6173\n",
            "Epoch 58/100\n",
            "49/49 [==============================] - 11s 215ms/step - loss: 18.6902 - val_loss: 20.4778\n",
            "Epoch 59/100\n",
            "49/49 [==============================] - 11s 216ms/step - loss: 18.6272 - val_loss: 20.5236\n",
            "Epoch 60/100\n",
            "49/49 [==============================] - 11s 216ms/step - loss: 18.5936 - val_loss: 20.1429\n",
            "Epoch 61/100\n",
            "49/49 [==============================] - 11s 216ms/step - loss: 18.4971 - val_loss: 20.4166\n",
            "Epoch 62/100\n",
            "49/49 [==============================] - 11s 217ms/step - loss: 18.3515 - val_loss: 20.2505\n",
            "Epoch 63/100\n",
            "49/49 [==============================] - 11s 215ms/step - loss: 18.3020 - val_loss: 19.5541\n",
            "Epoch 64/100\n",
            "49/49 [==============================] - 10s 214ms/step - loss: 18.1273 - val_loss: 20.0338\n",
            "Epoch 65/100\n",
            "49/49 [==============================] - 10s 213ms/step - loss: 18.0714 - val_loss: 19.6647\n",
            "Epoch 66/100\n",
            "49/49 [==============================] - 11s 214ms/step - loss: 18.0164 - val_loss: 19.4144\n",
            "Epoch 67/100\n",
            "49/49 [==============================] - 11s 215ms/step - loss: 17.8616 - val_loss: 19.2536\n",
            "Epoch 68/100\n",
            "49/49 [==============================] - 10s 214ms/step - loss: 17.6679 - val_loss: 19.3171\n",
            "Epoch 69/100\n",
            "49/49 [==============================] - 11s 215ms/step - loss: 17.6757 - val_loss: 19.2696\n",
            "Epoch 70/100\n",
            "49/49 [==============================] - 11s 215ms/step - loss: 17.5405 - val_loss: 19.1899\n",
            "Epoch 71/100\n",
            "49/49 [==============================] - 10s 214ms/step - loss: 17.4378 - val_loss: 18.9816\n",
            "Epoch 72/100\n",
            "49/49 [==============================] - 11s 215ms/step - loss: 17.4046 - val_loss: 18.9045\n",
            "Epoch 73/100\n",
            "49/49 [==============================] - 11s 216ms/step - loss: 17.3561 - val_loss: 18.7835\n",
            "Epoch 74/100\n",
            "49/49 [==============================] - 10s 214ms/step - loss: 17.2503 - val_loss: 18.7865\n",
            "Epoch 75/100\n",
            "49/49 [==============================] - 11s 216ms/step - loss: 17.1894 - val_loss: 18.6316\n",
            "Epoch 76/100\n",
            "49/49 [==============================] - 10s 214ms/step - loss: 17.2562 - val_loss: 18.7198\n",
            "Epoch 77/100\n",
            "49/49 [==============================] - 10s 212ms/step - loss: 17.0413 - val_loss: 18.4691\n",
            "Epoch 78/100\n",
            "49/49 [==============================] - 11s 216ms/step - loss: 16.9678 - val_loss: 18.5918\n",
            "Epoch 79/100\n",
            "49/49 [==============================] - 11s 215ms/step - loss: 16.8246 - val_loss: 18.6217\n",
            "Epoch 80/100\n",
            "49/49 [==============================] - 10s 214ms/step - loss: 16.9811 - val_loss: 18.4276\n",
            "Epoch 81/100\n",
            "49/49 [==============================] - 11s 214ms/step - loss: 16.6698 - val_loss: 18.3242\n",
            "Epoch 82/100\n",
            "49/49 [==============================] - 10s 214ms/step - loss: 16.6676 - val_loss: 18.3015\n",
            "Epoch 83/100\n",
            "49/49 [==============================] - 10s 213ms/step - loss: 16.6035 - val_loss: 18.0200\n",
            "Epoch 84/100\n",
            "49/49 [==============================] - 11s 216ms/step - loss: 16.7016 - val_loss: 18.1678\n",
            "Epoch 85/100\n",
            "49/49 [==============================] - 11s 216ms/step - loss: 16.4082 - val_loss: 17.9114\n",
            "Epoch 86/100\n",
            "49/49 [==============================] - 11s 216ms/step - loss: 16.4614 - val_loss: 17.7198\n",
            "Epoch 87/100\n",
            "49/49 [==============================] - 11s 217ms/step - loss: 16.2860 - val_loss: 17.7563\n",
            "Epoch 88/100\n",
            "49/49 [==============================] - 11s 216ms/step - loss: 16.3346 - val_loss: 17.7403\n",
            "Epoch 89/100\n",
            "49/49 [==============================] - 11s 216ms/step - loss: 16.3917 - val_loss: 17.9117\n",
            "Epoch 90/100\n",
            "49/49 [==============================] - 11s 222ms/step - loss: 16.1843 - val_loss: 17.6279\n",
            "Epoch 91/100\n",
            "49/49 [==============================] - 11s 223ms/step - loss: 16.1609 - val_loss: 17.6557\n",
            "\n",
            "Epoch 00091: ReduceLROnPlateau reducing learning rate to 0.00010000000474974513.\n",
            "Epoch 92/100\n",
            "49/49 [==============================] - 11s 217ms/step - loss: 15.8052 - val_loss: 17.1284\n",
            "Epoch 93/100\n",
            "49/49 [==============================] - 11s 219ms/step - loss: 15.5523 - val_loss: 17.1052\n",
            "Epoch 94/100\n",
            "49/49 [==============================] - 11s 218ms/step - loss: 15.5705 - val_loss: 17.0933\n",
            "Epoch 95/100\n",
            "49/49 [==============================] - 11s 218ms/step - loss: 15.5904 - val_loss: 17.0770\n",
            "Epoch 96/100\n",
            "49/49 [==============================] - 11s 217ms/step - loss: 15.5095 - val_loss: 17.0601\n",
            "Epoch 97/100\n",
            "49/49 [==============================] - 10s 214ms/step - loss: 15.5364 - val_loss: 17.0431\n",
            "\n",
            "Epoch 00097: ReduceLROnPlateau reducing learning rate to 1.0000000474974514e-05.\n",
            "Epoch 98/100\n",
            "49/49 [==============================] - 11s 216ms/step - loss: 15.5071 - val_loss: 17.0377\n",
            "Epoch 99/100\n",
            "49/49 [==============================] - 11s 215ms/step - loss: 15.5444 - val_loss: 17.0370\n",
            "Epoch 100/100\n",
            "49/49 [==============================] - 11s 216ms/step - loss: 15.4786 - val_loss: 17.0360\n"
          ],
          "name": "stdout"
        },
        {
          "output_type": "execute_result",
          "data": {
            "text/plain": [
              "<keras.callbacks.History at 0x7fb6b1f49150>"
            ]
          },
          "metadata": {
            "tags": []
          },
          "execution_count": 29
        }
      ]
    },
    {
      "cell_type": "code",
      "metadata": {
        "id": "xwm_juSatCAC"
      },
      "source": [
        "pred = model.predict(sequence, batch_size=457)"
      ],
      "execution_count": 30,
      "outputs": []
    },
    {
      "cell_type": "code",
      "metadata": {
        "colab": {
          "base_uri": "https://localhost:8080/"
        },
        "id": "0x8NQRua3449",
        "outputId": "9412b510-fd50-4f16-8523-7f2168e44617"
      },
      "source": [
        "sequence[0][0]"
      ],
      "execution_count": 31,
      "outputs": [
        {
          "output_type": "execute_result",
          "data": {
            "text/plain": [
              "array([-8.28719032e+00, -1.13347611e+01, -3.01328985e+01, -1.02183549e+00,\n",
              "        5.05976291e+00,  6.01580903e+00,  1.42289013e+01,  1.76303173e+01,\n",
              "        4.21620537e+00,  5.38378425e+00, -2.38234858e+00,  6.46840059e+00,\n",
              "        9.40192492e+00, -6.28889692e-02, -9.51486909e-01, -3.42003309e-01,\n",
              "       -9.88968581e-01, -2.08766134e+00,  3.97873890e-01, -1.34747231e+00,\n",
              "       -2.45847306e-01,  2.33128228e+00, -2.42901207e-01,  9.74727779e-01,\n",
              "       -1.00072325e-01, -1.33486978e+00, -1.59122761e-02,  1.37564663e-01,\n",
              "        1.48142018e-01,  4.96692185e-01,  3.04829931e-01, -3.96158790e-02,\n",
              "        3.91048911e-01,  3.36084104e-01, -7.19189540e-01, -3.65012013e-02,\n",
              "        4.59455374e-01,  1.00436816e-02, -6.19904972e-01])"
            ]
          },
          "metadata": {
            "tags": []
          },
          "execution_count": 31
        }
      ]
    },
    {
      "cell_type": "code",
      "metadata": {
        "colab": {
          "base_uri": "https://localhost:8080/"
        },
        "id": "o1x03h753nOM",
        "outputId": "58a9c3be-e35f-4e31-96a6-eedf76a3a176"
      },
      "source": [
        "pred[0][0]"
      ],
      "execution_count": 32,
      "outputs": [
        {
          "output_type": "execute_result",
          "data": {
            "text/plain": [
              "array([-7.8742456e+00, -1.2392062e+01, -2.6106621e+01, -4.5868902e+00,\n",
              "        3.1828597e+00,  8.4367619e+00,  8.7706194e+00,  1.6867088e+01,\n",
              "        8.6274920e+00,  1.3488873e+00,  1.4838252e+00,  3.7194910e+00,\n",
              "        1.4084139e+00, -1.6332927e-01, -1.1467078e+00,  1.4366051e+00,\n",
              "        6.2197125e-01,  9.6522158e-01,  4.3573570e-01,  1.3509647e+00,\n",
              "       -1.0408504e+00, -1.5879958e+00,  1.9652996e+00,  1.2567148e+00,\n",
              "        8.3053881e-01,  5.5359018e-01,  2.5654811e-02,  9.5644444e-01,\n",
              "        4.2731982e-01,  3.9970404e-01, -8.0796635e-01, -8.1574708e-01,\n",
              "        4.8582770e-02, -1.2759534e+00, -1.2692261e+00, -6.1197579e-01,\n",
              "       -4.8609752e-02,  9.4737127e-02, -3.0713820e-01], dtype=float32)"
            ]
          },
          "metadata": {
            "tags": []
          },
          "execution_count": 32
        }
      ]
    },
    {
      "cell_type": "code",
      "metadata": {
        "id": "OBMUZPPUsLjG"
      },
      "source": [
        "out = model.layers[0].output\n",
        "m = Model(inputs = model.input, outputs=out)"
      ],
      "execution_count": 33,
      "outputs": []
    },
    {
      "cell_type": "code",
      "metadata": {
        "id": "o41fBrbLtcRg"
      },
      "source": [
        "train_output = m.predict(train)\n",
        "val_output = m.predict(val)\n",
        "output = m.predict(sequence)"
      ],
      "execution_count": 35,
      "outputs": []
    },
    {
      "cell_type": "code",
      "metadata": {
        "colab": {
          "base_uri": "https://localhost:8080/"
        },
        "id": "vXvKCbjltj2u",
        "outputId": "3e3dbc2f-e232-43ea-892b-4df967d64d32"
      },
      "source": [
        "len(output[0])"
      ],
      "execution_count": 36,
      "outputs": [
        {
          "output_type": "execute_result",
          "data": {
            "text/plain": [
              "100"
            ]
          },
          "metadata": {
            "tags": []
          },
          "execution_count": 36
        }
      ]
    }
  ]
}